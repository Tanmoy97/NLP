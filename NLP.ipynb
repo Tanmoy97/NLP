{
  "nbformat": 4,
  "nbformat_minor": 0,
  "metadata": {
    "colab": {
      "name": "NLP.ipynb",
      "provenance": []
    },
    "kernelspec": {
      "name": "python3",
      "display_name": "Python 3"
    }
  },
  "cells": [
    {
      "cell_type": "code",
      "metadata": {
        "id": "tE-KuRl6a92Q",
        "colab_type": "code",
        "outputId": "f45cfa97-596c-4c97-abc6-0c2fe24145e4",
        "colab": {
          "resources": {
            "http://localhost:8080/nbextensions/google.colab/files.js": {
              "data": "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",
              "ok": true,
              "headers": [
                [
                  "content-type",
                  "application/javascript"
                ]
              ],
              "status": 200,
              "status_text": ""
            }
          },
          "base_uri": "https://localhost:8080/",
          "height": 75
        }
      },
      "source": [
        "from google.colab import files \n",
        "uploaded = files.upload()"
      ],
      "execution_count": 0,
      "outputs": [
        {
          "output_type": "display_data",
          "data": {
            "text/html": [
              "\n",
              "     <input type=\"file\" id=\"files-d5b09f06-e46d-4874-9f52-ac14344221b4\" name=\"files[]\" multiple disabled />\n",
              "     <output id=\"result-d5b09f06-e46d-4874-9f52-ac14344221b4\">\n",
              "      Upload widget is only available when the cell has been executed in the\n",
              "      current browser session. Please rerun this cell to enable.\n",
              "      </output>\n",
              "      <script src=\"/nbextensions/google.colab/files.js\"></script> "
            ],
            "text/plain": [
              "<IPython.core.display.HTML object>"
            ]
          },
          "metadata": {
            "tags": []
          }
        },
        {
          "output_type": "stream",
          "text": [
            "Saving SMSSpamCollection to SMSSpamCollection\n"
          ],
          "name": "stdout"
        }
      ]
    },
    {
      "cell_type": "code",
      "metadata": {
        "id": "X5un1NP3iew0",
        "colab_type": "code",
        "colab": {}
      },
      "source": [
        "sms = [line for line in open('SMSSpamCollection')] # \\n \\t \\r "
      ],
      "execution_count": 0,
      "outputs": []
    },
    {
      "cell_type": "code",
      "metadata": {
        "id": "QlwlrRftioTi",
        "colab_type": "code",
        "outputId": "b419db54-2b4c-43bf-8806-6f1a7b0db2e7",
        "colab": {
          "base_uri": "https://localhost:8080/",
          "height": 1000
        }
      },
      "source": [
        "sms"
      ],
      "execution_count": 0,
      "outputs": [
        {
          "output_type": "execute_result",
          "data": {
            "text/plain": [
              "['ham\\tGo until jurong point, crazy.. Available only in bugis n great world la e buffet... Cine there got amore wat...\\n',\n",
              " 'ham\\tOk lar... Joking wif u oni...\\n',\n",
              " \"spam\\tFree entry in 2 a wkly comp to win FA Cup final tkts 21st May 2005. Text FA to 87121 to receive entry question(std txt rate)T&C's apply 08452810075over18's\\n\",\n",
              " 'ham\\tU dun say so early hor... U c already then say...\\n',\n",
              " \"ham\\tNah I don't think he goes to usf, he lives around here though\\n\",\n",
              " \"spam\\tFreeMsg Hey there darling it's been 3 week's now and no word back! I'd like some fun you up for it still? Tb ok! XxX std chgs to send, £1.50 to rcv\\n\",\n",
              " 'ham\\tEven my brother is not like to speak with me. They treat me like aids patent.\\n',\n",
              " \"ham\\tAs per your request 'Melle Melle (Oru Minnaminunginte Nurungu Vettam)' has been set as your callertune for all Callers. Press *9 to copy your friends Callertune\\n\",\n",
              " 'spam\\tWINNER!! As a valued network customer you have been selected to receivea £900 prize reward! To claim call 09061701461. Claim code KL341. Valid 12 hours only.\\n',\n",
              " 'spam\\tHad your mobile 11 months or more? U R entitled to Update to the latest colour mobiles with camera for Free! Call The Mobile Update Co FREE on 08002986030\\n',\n",
              " \"ham\\tI'm gonna be home soon and i don't want to talk about this stuff anymore tonight, k? I've cried enough today.\\n\",\n",
              " 'spam\\tSIX chances to win CASH! From 100 to 20,000 pounds txt> CSH11 and send to 87575. Cost 150p/day, 6days, 16+ TsandCs apply Reply HL 4 info\\n',\n",
              " 'spam\\tURGENT! You have won a 1 week FREE membership in our £100,000 Prize Jackpot! Txt the word: CLAIM to No: 81010 T&C www.dbuk.net LCCLTD POBOX 4403LDNW1A7RW18\\n',\n",
              " \"ham\\tI've been searching for the right words to thank you for this breather. I promise i wont take your help for granted and will fulfil my promise. You have been wonderful and a blessing at all times.\\n\",\n",
              " 'ham\\tI HAVE A DATE ON SUNDAY WITH WILL!!\\n',\n",
              " 'spam\\tXXXMobileMovieClub: To use your credit, click the WAP link in the next txt message or click here>> http://wap. xxxmobilemovieclub.com?n=QJKGIGHJJGCBL\\n',\n",
              " \"ham\\tOh k...i'm watching here:)\\n\",\n",
              " 'ham\\tEh u remember how 2 spell his name... Yes i did. He v naughty make until i v wet.\\n',\n",
              " 'ham\\tFine if that\\x92s the way u feel. That\\x92s the way its gota b\\n',\n",
              " 'spam\\tEngland v Macedonia - dont miss the goals/team news. Txt ur national team to 87077 eg ENGLAND to 87077 Try:WALES, SCOTLAND 4txt/ú1.20 POBOXox36504W45WQ 16+\\n',\n",
              " 'ham\\tIs that seriously how you spell his name?\\n',\n",
              " 'ham\\tI‘m going to try for 2 months ha ha only joking\\n',\n",
              " 'ham\\tSo ü pay first lar... Then when is da stock comin...\\n',\n",
              " 'ham\\tAft i finish my lunch then i go str down lor. Ard 3 smth lor. U finish ur lunch already?\\n',\n",
              " 'ham\\tFfffffffff. Alright no way I can meet up with you sooner?\\n',\n",
              " \"ham\\tJust forced myself to eat a slice. I'm really not hungry tho. This sucks. Mark is getting worried. He knows I'm sick when I turn down pizza. Lol\\n\",\n",
              " 'ham\\tLol your always so convincing.\\n',\n",
              " \"ham\\tDid you catch the bus ? Are you frying an egg ? Did you make a tea? Are you eating your mom's left over dinner ? Do you feel my Love ?\\n\",\n",
              " \"ham\\tI'm back &amp; we're packing the car now, I'll let you know if there's room\\n\",\n",
              " 'ham\\tAhhh. Work. I vaguely remember that! What does it feel like? Lol\\n',\n",
              " \"ham\\tWait that's still not all that clear, were you not sure about me being sarcastic or that that's why x doesn't want to live with us\\n\",\n",
              " \"ham\\tYeah he got in at 2 and was v apologetic. n had fallen out and she was actin like spoilt child and he got caught up in that. Till 2! But we won't go there! Not doing too badly cheers. You? \\n\",\n",
              " 'ham\\tK tell me anything about you.\\n',\n",
              " 'ham\\tFor fear of fainting with the of all that housework you just did? Quick have a cuppa\\n',\n",
              " 'spam\\tThanks for your subscription to Ringtone UK your mobile will be charged £5/month Please confirm by replying YES or NO. If you reply NO you will not be charged\\n',\n",
              " 'ham\\tYup... Ok i go home look at the timings then i msg ü again... Xuhui going to learn on 2nd may too but her lesson is at 8am\\n',\n",
              " \"ham\\tOops, I'll let you know when my roommate's done\\n\",\n",
              " 'ham\\tI see the letter B on my car\\n',\n",
              " 'ham\\tAnything lor... U decide...\\n',\n",
              " \"ham\\tHello! How's you and how did saturday go? I was just texting to see if you'd decided to do anything tomo. Not that i'm trying to invite myself or anything!\\n\",\n",
              " 'ham\\tPls go ahead with watts. I just wanted to be sure. Do have a great weekend. Abiola\\n',\n",
              " 'ham\\tDid I forget to tell you ? I want you , I need you, I crave you ... But most of all ... I love you my sweet Arabian steed ... Mmmmmm ... Yummy\\n',\n",
              " 'spam\\t07732584351 - Rodger Burns - MSG = We tried to call you re your reply to our sms for a free nokia mobile + free camcorder. Please call now 08000930705 for delivery tomorrow\\n',\n",
              " 'ham\\tWHO ARE YOU SEEING?\\n',\n",
              " 'ham\\tGreat! I hope you like your man well endowed. I am  &lt;#&gt;  inches...\\n',\n",
              " 'ham\\tNo calls..messages..missed calls\\n',\n",
              " \"ham\\tDidn't you get hep b immunisation in nigeria.\\n\",\n",
              " 'ham\\tFair enough, anything going on?\\n',\n",
              " \"ham\\tYeah hopefully, if tyler can't do it I could maybe ask around a bit\\n\",\n",
              " \"ham\\tU don't know how stubborn I am. I didn't even want to go to the hospital. I kept telling Mark I'm not a weak sucker. Hospitals are for weak suckers.\\n\",\n",
              " 'ham\\tWhat you thinked about me. First time you saw me in class.\\n',\n",
              " 'ham\\tA gram usually runs like  &lt;#&gt; , a half eighth is smarter though and gets you almost a whole second gram for  &lt;#&gt;\\n',\n",
              " \"ham\\tK fyi x has a ride early tomorrow morning but he's crashing at our place tonight\\n\",\n",
              " 'ham\\tWow. I never realized that you were so embarassed by your accomodations. I thought you liked it, since i was doing the best i could and you always seemed so happy about \"the cave\". I\\'m sorry I didn\\'t and don\\'t have more to give. I\\'m sorry i offered. I\\'m sorry your room was so embarassing.\\n',\n",
              " 'spam\\tSMS. ac Sptv: The New Jersey Devils and the Detroit Red Wings play Ice Hockey. Correct or Incorrect? End? Reply END SPTV\\n',\n",
              " 'ham\\tDo you know what Mallika Sherawat did yesterday? Find out now @  &lt;URL&gt;\\n',\n",
              " 'spam\\tCongrats! 1 year special cinema pass for 2 is yours. call 09061209465 now! C Suprman V, Matrix3, StarWars3, etc all 4 FREE! bx420-ip4-5we. 150pm. Dont miss out! \\n',\n",
              " \"ham\\tSorry, I'll call later in meeting.\\n\",\n",
              " 'ham\\tTell where you reached\\n',\n",
              " 'ham\\tYes..gauti and sehwag out of odi series.\\n',\n",
              " \"ham\\tYour gonna have to pick up a $1 burger for yourself on your way home. I can't even move. Pain is killing me.\\n\",\n",
              " 'ham\\tHa ha ha good joke. Girls are situation seekers.\\n',\n",
              " 'ham\\tIts a part of checking IQ\\n',\n",
              " 'ham\\tSorry my roommates took forever, it ok if I come by now?\\n',\n",
              " 'ham\\tOk lar i double check wif da hair dresser already he said wun cut v short. He said will cut until i look nice.\\n',\n",
              " 'spam\\tAs a valued customer, I am pleased to advise you that following recent review of your Mob No. you are awarded with a £1500 Bonus Prize, call 09066364589\\n',\n",
              " 'ham\\tToday is \"song dedicated day..\" Which song will u dedicate for me? Send this to all ur valuable frnds but first rply me...\\n',\n",
              " 'spam\\tUrgent UR awarded a complimentary trip to EuroDisinc Trav, Aco&Entry41 Or £1000. To claim txt DIS to 87121 18+6*£1.50(moreFrmMob. ShrAcomOrSglSuplt)10, LS1 3AJ\\n',\n",
              " 'spam\\tDid you hear about the new \"Divorce Barbie\"? It comes with all of Ken\\'s stuff!\\n',\n",
              " 'ham\\tI plane to give on this month end.\\n',\n",
              " 'ham\\tWah lucky man... Then can save money... Hee...\\n',\n",
              " 'ham\\tFinished class where are you.\\n',\n",
              " 'ham\\tHI BABE IM AT HOME NOW WANNA DO SOMETHING? XX\\n',\n",
              " 'ham\\tK..k:)where are you?how did you performed?\\n',\n",
              " 'ham\\tU can call me now...\\n',\n",
              " 'ham\\tI am waiting machan. Call me once you free.\\n',\n",
              " 'ham\\tThats cool. i am a gentleman and will treat you with dignity and respect.\\n',\n",
              " 'ham\\tI like you peoples very much:) but am very shy pa.\\n',\n",
              " 'ham\\tDoes not operate after  &lt;#&gt;  or what\\n',\n",
              " \"ham\\tIts not the same here. Still looking for a job. How much do Ta's earn there.\\n\",\n",
              " \"ham\\tSorry, I'll call later\\n\",\n",
              " 'ham\\tK. Did you call me just now ah? \\n',\n",
              " 'ham\\tOk i am on the way to home hi hi\\n',\n",
              " 'ham\\tYou will be in the place of that man\\n',\n",
              " 'ham\\tYup next stop.\\n',\n",
              " \"ham\\tI call you later, don't have network. If urgnt, sms me.\\n\",\n",
              " \"ham\\tFor real when u getting on yo? I only need 2 more tickets and one more jacket and I'm done. I already used all my multis.\\n\",\n",
              " \"ham\\tYes I started to send requests to make it but pain came back so I'm back in bed. Double coins at the factory too. I gotta cash in all my nitros.\\n\",\n",
              " \"ham\\tI'm really not up to it still tonight babe\\n\",\n",
              " 'ham\\tEla kano.,il download, come wen ur free..\\n',\n",
              " 'ham\\tYeah do! Don‘t stand to close tho- you‘ll catch something!\\n',\n",
              " \"ham\\tSorry to be a pain. Is it ok if we meet another night? I spent late afternoon in casualty and that means i haven't done any of y stuff42moro and that includes all my time sheets and that. Sorry. \\n\",\n",
              " 'ham\\tSmile in Pleasure Smile in Pain Smile when trouble pours like Rain Smile when sum1 Hurts U Smile becoz SOMEONE still Loves to see u Smiling!!\\n',\n",
              " 'spam\\tPlease call our customer service representative on 0800 169 6031 between 10am-9pm as you have WON a guaranteed £1000 cash or £5000 prize!\\n',\n",
              " 'ham\\tHavent planning to buy later. I check already lido only got 530 show in e afternoon. U finish work already?\\n',\n",
              " 'spam\\tYour free ringtone is waiting to be collected. Simply text the password \"MIX\" to 85069 to verify. Get Usher and Britney. FML, PO Box 5249, MK17 92H. 450Ppw 16\\n',\n",
              " 'ham\\tWatching telugu movie..wat abt u?\\n',\n",
              " 'ham\\ti see. When we finish we have loads of loans to pay\\n',\n",
              " 'ham\\tHi. Wk been ok - on hols now! Yes on for a bit of a run. Forgot that i have hairdressers appointment at four so need to get home n shower beforehand. Does that cause prob for u?\"\\n',\n",
              " 'ham\\tI see a cup of coffee animation\\n',\n",
              " \"ham\\tPlease don't text me anymore. I have nothing else to say.\\n\",\n",
              " 'ham\\tOkay name ur price as long as its legal! Wen can I pick them up? Y u ave x ams xx\\n',\n",
              " \"ham\\tI'm still looking for a car to buy. And have not gone 4the driving test yet.\\n\",\n",
              " \"ham\\tAs per your request 'Melle Melle (Oru Minnaminunginte Nurungu Vettam)' has been set as your callertune for all Callers. Press *9 to copy your friends Callertune\\n\",\n",
              " \"ham\\twow. You're right! I didn't mean to do that. I guess once i gave up on boston men and changed my search location to nyc, something changed. Cuz on my signin page it still says boston.\\n\",\n",
              " 'ham\\tUmma my life and vava umma love you lot dear\\n',\n",
              " 'ham\\tThanks a lot for your wishes on my birthday. Thanks you for making my birthday truly memorable.\\n',\n",
              " \"ham\\tAight, I'll hit you up when I get some cash\\n\",\n",
              " \"ham\\tHow would my ip address test that considering my computer isn't a minecraft server\\n\",\n",
              " 'ham\\tI know! Grumpy old people. My mom was like you better not be lying. Then again I am always the one to play jokes...\\n',\n",
              " \"ham\\tDont worry. I guess he's busy.\\n\",\n",
              " 'ham\\tWhat is the plural of the noun research?\\n',\n",
              " 'ham\\tGoing for dinner.msg you after.\\n',\n",
              " \"ham\\tI'm ok wif it cos i like 2 try new things. But i scared u dun like mah. Cos u said not too loud.\\n\",\n",
              " 'spam\\tGENT! We are trying to contact you. Last weekends draw shows that you won a £1000 prize GUARANTEED. Call 09064012160. Claim Code K52. Valid 12hrs only. 150ppm\\n',\n",
              " \"ham\\tWa, ur openin sentence very formal... Anyway, i'm fine too, juz tt i'm eatin too much n puttin on weight...Haha... So anythin special happened?\\n\",\n",
              " \"ham\\tAs I entered my cabin my PA said, '' Happy B'day Boss !!''. I felt special. She askd me 4 lunch. After lunch she invited me to her apartment. We went there.\\n\",\n",
              " 'spam\\tYou are a winner U have been specially selected 2 receive £1000 or a 4* holiday (flights inc) speak to a live operator 2 claim 0871277810910p/min (18+) \\n',\n",
              " 'ham\\tGoodo! Yes we must speak friday - egg-potato ratio for tortilla needed! \\n',\n",
              " \"ham\\tHmm...my uncle just informed me that he's paying the school directly. So pls buy food.\\n\",\n",
              " 'spam\\tPRIVATE! Your 2004 Account Statement for 07742676969 shows 786 unredeemed Bonus Points. To claim call 08719180248 Identifier Code: 45239 Expires\\n',\n",
              " 'spam\\tURGENT! Your Mobile No. was awarded £2000 Bonus Caller Prize on 5/9/03 This is our final try to contact U! Call from Landline 09064019788 BOX42WR29C, 150PPM\\n',\n",
              " 'ham\\there is my new address -apples&pairs&all that malarky\\n',\n",
              " 'spam\\tTodays Voda numbers ending 7548 are selected to receive a $350 award. If you have a match please call 08712300220 quoting claim code 4041 standard rates app\\n',\n",
              " 'ham\\tI am going to sao mu today. Will be done only at 12 \\n',\n",
              " \"ham\\tÜ predict wat time ü'll finish buying?\\n\",\n",
              " 'ham\\tGood stuff, will do.\\n',\n",
              " \"ham\\tJust so that you know,yetunde hasn't sent money yet. I just sent her a text not to bother sending. So its over, you dont have to involve yourself in anything. I shouldn't have imposed anything on you in the first place so for that, i apologise.\\n\",\n",
              " 'ham\\tAre you there in room.\\n',\n",
              " 'ham\\tHEY GIRL. HOW R U? HOPE U R WELL ME AN DEL R BAK! AGAIN LONG TIME NO C! GIVE ME A CALL SUM TIME FROM LUCYxx\\n',\n",
              " 'ham\\tK..k:)how much does it cost?\\n',\n",
              " \"ham\\tI'm home.\\n\",\n",
              " 'ham\\tDear, will call Tmorrow.pls accomodate.\\n',\n",
              " 'ham\\tFirst answer my question.\\n',\n",
              " 'spam\\tSunshine Quiz Wkly Q! Win a top Sony DVD player if u know which country the Algarve is in? Txt ansr to 82277. £1.50 SP:Tyrone\\n',\n",
              " \"spam\\tWant 2 get laid tonight? Want real Dogging locations sent direct 2 ur mob? Join the UK's largest Dogging Network bt Txting GRAVEL to 69888! Nt. ec2a. 31p.msg@150p\\n\",\n",
              " \"ham\\tI only haf msn. It's yijue@hotmail.com\\n\",\n",
              " 'ham\\tHe is there. You call and meet him\\n',\n",
              " 'ham\\tNo no. I will check all rooms befor activities\\n',\n",
              " \"spam\\tYou'll not rcv any more msgs from the chat svc. For FREE Hardcore services text GO to: 69988 If u get nothing u must Age Verify with yr network & try again\\n\",\n",
              " 'ham\\tGot c... I lazy to type... I forgot ü in lect... I saw a pouch but like not v nice...\\n',\n",
              " \"ham\\tK, text me when you're on the way\\n\",\n",
              " 'ham\\tSir, Waiting for your mail.\\n',\n",
              " 'ham\\tA swt thought: \"Nver get tired of doing little things 4 lovable persons..\" Coz..somtimes those little things occupy d biggest part in their Hearts.. Gud ni8\\n',\n",
              " 'ham\\tI know you are. Can you pls open the back?\\n',\n",
              " 'ham\\tYes see ya not on the dot\\n',\n",
              " 'ham\\tWhats the staff name who is taking class for us?\\n',\n",
              " \"spam\\tFreeMsg Why haven't you replied to my text? I'm Randy, sexy, female and live local. Luv to hear from u. Netcollex Ltd 08700621170150p per msg reply Stop to end\\n\",\n",
              " 'ham\\tUmmma.will call after check in.our life will begin from qatar so pls pray very hard.\\n',\n",
              " 'ham\\tK..i deleted my contact that why?\\n',\n",
              " 'ham\\tSindu got job in birla soft ..\\n',\n",
              " \"ham\\tThe wine is flowing and i'm i have nevering..\\n\",\n",
              " 'ham\\tYup i thk cine is better cos no need 2 go down 2 plaza mah.\\n',\n",
              " 'ham\\tOk... Ur typical reply...\\n',\n",
              " \"ham\\tAs per your request 'Melle Melle (Oru Minnaminunginte Nurungu Vettam)' has been set as your callertune for all Callers. Press *9 to copy your friends Callertune\\n\",\n",
              " 'ham\\tYou are everywhere dirt, on the floor, the windows, even on my shirt. And sometimes when i open my mouth, you are all that comes flowing out. I dream of my world without you, then half my chores are out too. A time of joy for me, lots of tv shows i.ll see. But i guess like all things you just must exist, like rain, hail and mist, and when my time here is done, you and i become one.\\n',\n",
              " 'ham\\tAaooooright are you at work?\\n',\n",
              " \"ham\\tI'm leaving my house now...\\n\",\n",
              " 'ham\\tHello, my love. What are you doing? Did you get to that interview today? Are you you happy? Are you being a good boy? Do you think of me?Are you missing me ?\\n',\n",
              " 'spam\\tCustomer service annoncement. You have a New Years delivery waiting for you. Please call 07046744435 now to arrange delivery\\n',\n",
              " 'spam\\tYou are a winner U have been specially selected 2 receive £1000 cash or a 4* holiday (flights inc) speak to a live operator 2 claim 0871277810810\\n',\n",
              " \"ham\\tKeep yourself safe for me because I need you and I miss you already and I envy everyone that see's you in real life\\n\",\n",
              " 'ham\\tNew car and house for my parents.:)i have only new job in hand:)\\n',\n",
              " \"ham\\tI'm so in love with you. I'm excited each day i spend with you. You make me so happy.\\n\",\n",
              " 'spam\\t-PLS STOP bootydelious (32/F) is inviting you to be her friend. Reply YES-434 or NO-434 See her: www.SMS.ac/u/bootydelious STOP? Send STOP FRND to 62468\\n',\n",
              " 'spam\\tBangBabes Ur order is on the way. U SHOULD receive a Service Msg 2 download UR content. If U do not, GoTo wap. bangb. tv on UR mobile internet/service menu\\n',\n",
              " 'ham\\tI place all ur points on e cultures module already.\\n',\n",
              " 'spam\\tURGENT! We are trying to contact you. Last weekends draw shows that you have won a £900 prize GUARANTEED. Call 09061701939. Claim code S89. Valid 12hrs only\\n',\n",
              " \"ham\\tHi frnd, which is best way to avoid missunderstding wit our beloved one's?\\n\",\n",
              " 'ham\\tGreat escape. I fancy the bridge but needs her lager. See you tomo \\n',\n",
              " 'ham\\tYes :)it completely in out of form:)clark also utter waste.\\n',\n",
              " 'ham\\tSir, I need AXIS BANK account no and bank address.\\n',\n",
              " 'ham\\tHmmm.. Thk sure got time to hop ard... Ya, can go 4 free abt... Muz call u to discuss liao... \\n',\n",
              " 'ham\\tWhat time you coming down later? \\n',\n",
              " 'ham\\tBloody hell, cant believe you forgot my surname Mr . Ill give u a clue, its spanish and begins with m... \\n',\n",
              " \"ham\\tWell, i'm gonna finish my bath now. Have a good...fine night.\\n\",\n",
              " \"ham\\tLet me know when you've got the money so carlos can make the call\\n\",\n",
              " 'ham\\tU still going to the mall?\\n',\n",
              " \"ham\\tTurns out my friends are staying for the whole show and won't be back til ~ &lt;#&gt; , so feel free to go ahead and smoke that $ &lt;#&gt;  worth\\n\",\n",
              " 'ham\\tText her. If she doesnt reply let me know so i can have her log in\\n',\n",
              " \"ham\\tHi! You just spoke to MANEESHA V. We'd like to know if you were satisfied with the experience. Reply Toll Free with Yes or No.\\n\",\n",
              " 'ham\\tYou lifted my hopes with the offer of money. I am in need. Especially when the end of the month approaches and it hurts my studying. Anyways have a gr8 weekend\\n',\n",
              " 'ham\\tLol no. U can trust me.\\n',\n",
              " 'ham\\tok. I am a gentleman and will treat you with dignity and respect.\\n',\n",
              " 'ham\\tHe will, you guys close?\\n',\n",
              " 'ham\\tGoing on nothing great.bye\\n',\n",
              " \"ham\\tHello handsome ! Are you finding that job ? Not being lazy ? Working towards getting back that net for mummy ? Where's my boytoy now ? Does he miss me ?\\n\",\n",
              " 'ham\\tHaha awesome, be there in a minute\\n',\n",
              " 'spam\\tPlease call our customer service representative on FREEPHONE 0808 145 4742 between 9am-11pm as you have WON a guaranteed £1000 cash or £5000 prize!\\n',\n",
              " 'ham\\tHave you got Xmas radio times. If not i will get it now\\n',\n",
              " 'ham\\tI jus reached home. I go bathe first. But my sis using net tell u when she finishes k...\\n',\n",
              " 'spam\\tAre you unique enough? Find out from 30th August. www.areyouunique.co.uk\\n',\n",
              " \"ham\\tI'm sorry. I've joined the league of people that dont keep in touch. You mean a great deal to me. You have been a friend at all times even at great personal cost. Do have a great week.|\\n\",\n",
              " 'ham\\tHi :)finally i completed the course:)\\n',\n",
              " 'ham\\tIt will stop on itself. I however suggest she stays with someone that will be able to give ors for every stool.\\n',\n",
              " \"ham\\tHow are you doing? Hope you've settled in for the new school year. Just wishin you a gr8 day\\n\",\n",
              " 'ham\\tGud mrng dear hav a nice day\\n',\n",
              " 'ham\\tDid u got that persons story\\n',\n",
              " 'ham\\tis your hamster dead? Hey so tmr i meet you at 1pm orchard mrt? \\n',\n",
              " 'ham\\tHi its Kate how is your evening? I hope i can see you tomorrow for a bit but i have to bloody babyjontet! Txt back if u can. :) xxx\\n',\n",
              " 'ham\\tFound it, ENC  &lt;#&gt; , where you at?\\n',\n",
              " 'ham\\tI sent you  &lt;#&gt;  bucks\\n',\n",
              " 'ham\\tHello darlin ive finished college now so txt me when u finish if u can love Kate xxx\\n',\n",
              " 'ham\\tYour account has been refilled successfully by INR  &lt;DECIMAL&gt; . Your KeralaCircle prepaid account balance is Rs  &lt;DECIMAL&gt; . Your Transaction ID is KR &lt;#&gt; .\\n',\n",
              " 'ham\\tGoodmorning sleeping ga.\\n',\n",
              " 'ham\\tU call me alter at 11 ok.\\n',\n",
              " 'ham\\tÜ say until like dat i dun buy ericsson oso cannot oredi lar...\\n',\n",
              " \"ham\\tAs I entered my cabin my PA said, '' Happy B'day Boss !!''. I felt special. She askd me 4 lunch. After lunch she invited me to her apartment. We went there.\\n\",\n",
              " 'ham\\tAight yo, dats straight dogg\\n',\n",
              " 'ham\\tYou please give us connection today itself before  &lt;DECIMAL&gt;  or refund the bill\\n',\n",
              " 'ham\\tBoth :) i shoot big loads so get ready!\\n',\n",
              " \"ham\\tWhat's up bruv, hope you had a great break. Do have a rewarding semester.\\n\",\n",
              " 'ham\\tHome so we can always chat\\n',\n",
              " 'ham\\tK:)k:)good:)study well.\\n',\n",
              " 'ham\\tYup... How ü noe leh...\\n',\n",
              " 'ham\\tSounds great! Are you home now?\\n',\n",
              " 'ham\\tFinally the match heading towards draw as your prediction.\\n',\n",
              " \"ham\\tTired. I haven't slept well the past few nights.\\n\",\n",
              " 'ham\\tEasy ah?sen got selected means its good..\\n',\n",
              " 'ham\\tI have to take exam with march 3\\n',\n",
              " \"ham\\tYeah you should. I think you can use your gt atm now to register. Not sure but if there's anyway i can help let me know. But when you do be sure you are ready.\\n\",\n",
              " 'ham\\tOk no prob. Take ur time.\\n',\n",
              " 'ham\\tThere is os called ubandu which will run without installing in hard disk...you can use that os to copy the important files in system and give it to repair shop..\\n',\n",
              " \"ham\\tSorry, I'll call later\\n\",\n",
              " 'ham\\tU say leh... Of course nothing happen lar. Not say v romantic jus a bit only lor. I thk e nite scenery not so nice leh.\\n',\n",
              " 'spam\\t500 New Mobiles from 2004, MUST GO! Txt: NOKIA to No: 89545 & collect yours today!From ONLY £1 www.4-tc.biz 2optout 087187262701.50gbp/mtmsg18\\n',\n",
              " 'ham\\tWould really appreciate if you call me. Just need someone to talk to.\\n',\n",
              " 'spam\\tWill u meet ur dream partner soon? Is ur career off 2 a flyng start? 2 find out free, txt HORO followed by ur star sign, e. g. HORO ARIES\\n',\n",
              " 'ham\\tHey company elama po mudyadhu.\\n',\n",
              " 'ham\\tLife is more strict than teacher... Bcoz Teacher teaches lesson &amp; then conducts exam, But Life first conducts Exam &amp; then teaches Lessons. Happy morning. . .\\n',\n",
              " 'ham\\tDear good morning now only i am up\\n',\n",
              " 'ham\\tGet down in gandhipuram and walk to cross cut road. Right side &lt;#&gt; street road and turn at first right.\\n',\n",
              " 'ham\\tDear we are going to our rubber place\\n',\n",
              " \"ham\\tSorry battery died, yeah I'm here\\n\",\n",
              " 'ham\\tYes:)here tv is always available in work place..\\n',\n",
              " 'spam\\tText & meet someone sexy today. U can find a date or even flirt its up to U. Join 4 just 10p. REPLY with NAME & AGE eg Sam 25. 18 -msg recd@thirtyeight pence\\n',\n",
              " 'ham\\tI have printed it oh. So  &lt;#&gt;  come upstairs\\n',\n",
              " 'ham\\tOr ill be a little closer like at the bus stop on the same street\\n',\n",
              " 'ham\\tWhere are you?when wil you reach here?\\n',\n",
              " \"ham\\tNew Theory: Argument wins d SITUATION, but loses the PERSON. So dont argue with ur friends just.. . . . kick them &amp; say, I'm always correct.!\\n\",\n",
              " 'spam\\tU 447801259231 have a secret admirer who is looking 2 make contact with U-find out who they R*reveal who thinks UR so special-call on 09058094597\\n',\n",
              " 'ham\\tTomarrow final hearing on my laptop case so i cant.\\n',\n",
              " 'ham\\tPLEASSSSSSSEEEEEE TEL ME V AVENT DONE SPORTSx\\n',\n",
              " 'ham\\tOkay. No no, just shining on. That was meant to be signing, but that sounds better.\\n',\n",
              " \"ham\\tAlthough i told u dat i'm into baig face watches now but i really like e watch u gave cos it's fr u. Thanx 4 everything dat u've done today, i'm touched...\\n\",\n",
              " \"ham\\tU don't remember that old commercial?\\n\",\n",
              " \"ham\\tToo late. I said i have the website. I didn't i have or dont have the slippers\\n\",\n",
              " 'ham\\tI asked you to call him now ok\\n',\n",
              " 'ham\\tKallis wont bat in 2nd innings.\\n',\n",
              " 'ham\\tIt didnt work again oh. Ok goodnight then. I.ll fix and have it ready by the time you wake up. You are very dearly missed have a good night sleep.\\n',\n",
              " 'spam\\tCongratulations ur awarded 500 of CD vouchers or 125gift guaranteed & Free entry 2 100 wkly draw txt MUSIC to 87066 TnCs www.Ldew.com1win150ppmx3age16\\n',\n",
              " 'ham\\tRanjith cal drpd Deeraj and deepak 5min hold\\n',\n",
              " 'ham\\tWen ur lovable bcums angry wid u, dnt take it seriously.. Coz being angry is d most childish n true way of showing deep affection, care n luv!.. kettoda manda... Have nice day da.\\n',\n",
              " 'ham\\tWhat you doing?how are you?\\n',\n",
              " 'ham\\tUps which is 3days also, and the shipping company that takes 2wks. The other way is usps which takes a week but when it gets to lag you may have to bribe nipost to get your stuff.\\n',\n",
              " \"ham\\tI'm back, lemme know when you're ready\\n\",\n",
              " \"ham\\tDon't necessarily expect it to be done before you get back though because I'm just now headin out\\n\",\n",
              " 'ham\\tMmm so yummy babe ... Nice jolt to the suzy\\n',\n",
              " 'ham\\tWhere are you lover ? I need you ...\\n',\n",
              " 'spam\\tWe tried to contact you re your reply to our offer of a Video Handset? 750 anytime networks mins? UNLIMITED TEXT? Camcorder? Reply or call 08000930705 NOW\\n',\n",
              " 'ham\\tI‘m parked next to a MINI!!!! When are you coming in today do you think?\\n',\n",
              " 'ham\\tYup\\n',\n",
              " \"ham\\tAnyway i'm going shopping on my own now. Cos my sis not done yet. Dun disturb u liao.\\n\",\n",
              " 'ham\\tMY NO. IN LUTON 0125698789 RING ME IF UR AROUND! H*\\n',\n",
              " 'spam\\tHey I am really horny want to chat or see me naked text hot to 69698 text charged at 150pm to unsubscribe text stop 69698\\n',\n",
              " 'ham\\tWhy you Dint come with us.\\n',\n",
              " 'ham\\tSame. Wana plan a trip sometme then\\n',\n",
              " 'ham\\tNot sure yet, still trying to get a hold of him\\n',\n",
              " 'spam\\tUr ringtone service has changed! 25 Free credits! Go to club4mobiles.com to choose content now! Stop? txt CLUB STOP to 87070. 150p/wk Club4 PO Box1146 MK45 2WT\\n',\n",
              " 'ham\\tThe evo. I just had to download flash. Jealous?\\n',\n",
              " 'spam\\tRingtone Club: Get the UK singles chart on your mobile each week and choose any top quality ringtone! This message is free of charge.\\n',\n",
              " \"ham\\tCome to mu, we're sorting out our narcotics situation\\n\",\n",
              " 'ham\\tNight has ended for another day, morning has come in a special way. May you smile like the sunny rays and leaves your worries at the blue blue bay.\\n',\n",
              " 'spam\\tHMV BONUS SPECIAL 500 pounds of genuine HMV vouchers to be won. Just answer 4 easy questions. Play Now! Send HMV to 86688 More info:www.100percent-real.com\\n',\n",
              " 'ham\\tUsf I guess, might as well take 1 car\\n',\n",
              " 'ham\\tNo objection. My bf not coming.\\n',\n",
              " 'ham\\tThanx...\\n',\n",
              " 'ham\\tTell rob to mack his gf in the theater\\n',\n",
              " \"ham\\tAwesome, I'll see you in a bit\\n\",\n",
              " 'ham\\tJust sent it. So what type of food do you like?\\n',\n",
              " 'ham\\tAll done? All handed in? Celebrations in full swing yet?\\n',\n",
              " 'ham\\tYou got called a tool?\\n',\n",
              " 'ham\\t\"Wen u miss someone, the person is definitely special for u..... But if the person is so special, why to miss them, just Keep-in-touch\" gdeve..\\n',\n",
              " 'ham\\tOk. I asked for money how far\\n',\n",
              " 'ham\\tOkie...\\n',\n",
              " \"ham\\tYeah I think my usual guy's still passed out from last night, if you get ahold of anybody let me know and I'll throw down\\n\",\n",
              " 'ham\\tK, I might come by tonight then if my class lets out early\\n',\n",
              " 'ham\\tOk..\\n',\n",
              " 'ham\\thi baby im cruisin with my girl friend what r u up 2? give me a call in and hour at home if thats alright or fone me on this fone now love jenny xxx\\n',\n",
              " 'ham\\tMy life Means a lot to me, Not because I love my life, But because I love the people in my life, The world calls them friends, I call them my World:-).. Ge:-)..\\n',\n",
              " 'ham\\tDear,shall mail tonite.busy in the street,shall update you tonite.things are looking ok.varunnathu edukkukayee raksha ollu.but a good one in real sense.\\n',\n",
              " 'ham\\tHey you told your name to gautham ah?\\n',\n",
              " 'ham\\tHaf u found him? I feel so stupid da v cam was working.\\n',\n",
              " 'ham\\tOops. 4 got that bit.\\n',\n",
              " 'ham\\tAre you this much buzy\\n',\n",
              " 'ham\\tI accidentally deleted the message. Resend please.\\n',\n",
              " \"spam\\tT-Mobile customer you may now claim your FREE CAMERA PHONE upgrade & a pay & go sim card for your loyalty. Call on 0845 021 3680.Offer ends 28thFeb.T&C's apply\\n\",\n",
              " \"ham\\tUnless it's a situation where YOU GO GURL would be more appropriate\\n\",\n",
              " 'ham\\tHurt me... Tease me... Make me cry... But in the end of my life when i die plz keep one rose on my grave and say STUPID I MISS U.. HAVE A NICE DAY BSLVYL\\n',\n",
              " 'ham\\tI cant pick the phone right now. Pls send a message\\n',\n",
              " \"ham\\tNeed a coffee run tomo?Can't believe it's that time of week already\\n\",\n",
              " 'ham\\tAwesome, I remember the last time we got somebody high for the first time with diesel :V\\n',\n",
              " 'ham\\tShit that is really shocking and scary, cant imagine for a second. Def up for night out. Do u think there is somewhere i could crash for night, save on taxi?\\n',\n",
              " 'ham\\tOh and by the way you do have more food in your fridge! Want to go out for a meal tonight? \\n',\n",
              " 'ham\\tHe is a womdarfull actor\\n',\n",
              " 'spam\\tSMS. ac Blind Date 4U!: Rodds1 is 21/m from Aberdeen, United Kingdom. Check Him out http://img. sms. ac/W/icmb3cktz8r7!-4 no Blind Dates send HIDE\\n',\n",
              " 'ham\\tYup... From what i remb... I think should be can book... \\n',\n",
              " 'ham\\tJos ask if u wana meet up?\\n',\n",
              " \"ham\\tLol yes. Our friendship is hanging on a thread cause u won't buy stuff.\\n\",\n",
              " 'spam\\tTheMob> Check out our newest selection of content, Games, Tones, Gossip, babes and sport, Keep your mobile fit and funky text WAP to 82468\\n',\n",
              " \"ham\\tWhere are the garage keys? They aren't on the bookshelf\\n\",\n",
              " 'ham\\tToday is ACCEPT DAY..U Accept me as? Brother Sister Lover Dear1 Best1 Clos1 Lvblefrnd Jstfrnd Cutefrnd Lifpartnr Belovd Swtheart Bstfrnd No rply means enemy\\n',\n",
              " 'spam\\tThink ur smart ? Win £200 this week in our weekly quiz, text PLAY to 85222 now!T&Cs WinnersClub PO BOX 84, M26 3UZ. 16+. GBP1.50/week\\n',\n",
              " \"ham\\tHe says he'll give me a call when his friend's got the money but that he's definitely buying before the end of the week\\n\",\n",
              " 'ham\\tHi the way I was with u 2day, is the normal way&this is the real me. UR unique&I hope I know u 4 the rest of mylife. Hope u find wot was lost.\\n',\n",
              " 'ham\\tYou made my day. Do have a great day too.\\n',\n",
              " 'ham\\tK.k:)advance happy pongal.\\n',\n",
              " 'ham\\tHmmm... Guess we can go 4 kb n power yoga... Haha, dunno we can tahan power yoga anot... Thk got lo oso, forgot liao...\\n',\n",
              " \"ham\\tNot really dude, have no friends i'm afraid :(\\n\",\n",
              " 'spam\\tDecember only! Had your mobile 11mths+? You are entitled to update to the latest colour camera mobile for Free! Call The Mobile Update Co FREE on 08002986906\\n',\n",
              " 'ham\\tCoffee cake, i guess...\\n',\n",
              " 'ham\\tMerry Christmas to you too babe, i love ya *kisses*\\n',\n",
              " 'ham\\tHey... Why dont we just go watch x men and have lunch... Haha \\n',\n",
              " 'ham\\tcud u tell ppl im gona b a bit l8 cos 2 buses hav gon past cos they were full & im still waitin 4 1. Pete x\\n',\n",
              " \"ham\\tThat would be great. We'll be at the Guild. Could meet on Bristol road or somewhere - will get in touch over weekend. Our plans take flight! Have a good week\\n\",\n",
              " 'ham\\tNo problem. How are you doing?\\n',\n",
              " 'ham\\tNo calls..messages..missed calls\\n',\n",
              " 'ham\\tHi da:)how is the todays class?\\n',\n",
              " \"ham\\tI'd say that's a good sign but, well, you know my track record at reading women\\n\",\n",
              " \"ham\\tCool, text me when you're parked\\n\",\n",
              " \"ham\\tI'm reading the text i just sent you. Its meant to be a joke. So read it in that light\\n\",\n",
              " 'ham\\tK.k:)apo k.good movie.\\n',\n",
              " 'ham\\tMaybe i could get book out tomo then return it immediately ..? Or something.\\n',\n",
              " 'spam\\tCall Germany for only 1 pence per minute! Call from a fixed line via access number 0844 861 85 85. No prepayment. Direct access!\\n',\n",
              " \"ham\\tAny chance you might have had with me evaporated as soon as you violated my privacy by stealing my phone number from your employer's paperwork. Not cool at all. Please do not contact me again or I will report you to your supervisor.\\n\",\n",
              " 'spam\\tValentines Day Special! Win over £1000 in our quiz and take your partner on the trip of a lifetime! Send GO to 83600 now. 150p/msg rcvd. CustCare:08718720201.\\n',\n",
              " 'ham\\tTa-Daaaaa! I am home babe, are you still up ?\\n',\n",
              " 'ham\\tCool. So how come you havent been wined and dined before?\\n',\n",
              " 'ham\\tJust sleeping..and surfing\\n',\n",
              " \"ham\\tSorry, I'll call later\\n\",\n",
              " 'ham\\tU calling me right? Call my hand phone...\\n',\n",
              " \"ham\\tOk that's great thanx a lot.\\n\",\n",
              " 'ham\\tI take it the post has come then! You must have 1000s of texts now! Happy reading. My one from wiv hello caroline at the end is my favourite. Bless him\\n',\n",
              " 'ham\\tWhere u been hiding stranger?\\n',\n",
              " 'ham\\tAm not interested to do like that.\\n',\n",
              " 'ham\\tMy sister cleared two round in birla soft yesterday.\\n',\n",
              " 'ham\\tGudnite....tc...practice going on\\n',\n",
              " 'ham\\tDis is yijue. I jus saw ur mail. In case huiming havent sent u my num. Dis is my num.\\n',\n",
              " 'ham\\tOne small prestige problem now.\\n',\n",
              " 'spam\\tFancy a shag? I do.Interested? sextextuk.com txt XXUK SUZY to 69876. Txts cost 1.50 per msg. TnCs on website. X\\n',\n",
              " 'ham\\tJust checking in on you. Really do miss seeing Jeremiah. Do have a great month\\n',\n",
              " \"ham\\tNah can't help you there, I've never had an iphone\\n\",\n",
              " \"ham\\tIf you're not in my car in an hour and a half I'm going apeshit\\n\",\n",
              " \"ham\\tTODAY is Sorry day.! If ever i was angry with you, if ever i misbehaved or hurt you? plz plz JUST SLAP URSELF Bcoz, Its ur fault, I'm basically GOOD\\n\",\n",
              " 'ham\\tYo you guys ever figure out how much we need for alcohol? Jay and I are trying to figure out how much we can safely spend on weed\\n',\n",
              " 'ham\\t&lt;#&gt; ISH MINUTES WAS 5 MINUTES AGO. WTF.\\n',\n",
              " 'ham\\tThank You for calling.Forgot to say Happy Onam to you Sirji.I am fine here and remembered you when i met an insurance person.Meet You in Qatar Insha Allah.Rakhesh, ex Tata AIG who joined TISSCO,Tayseer.\\n',\n",
              " 'spam\\tCongratulations ur awarded 500 of CD vouchers or 125gift guaranteed & Free entry 2 100 wkly draw txt MUSIC to 87066 TnCs www.Ldew.com1win150ppmx3age16\\n',\n",
              " 'spam\\tUr cash-balance is currently 500 pounds - to maximize ur cash-in now send CASH to 86688 only 150p/msg. CC: 08708800282 HG/Suite342/2Lands Row/W1J6HL\\n',\n",
              " \"ham\\tI'm an actor. When i work, i work in the evening and sleep late. Since i'm unemployed at the moment, i ALWAYS sleep late. When you're unemployed, every day is saturday.\\n\",\n",
              " 'ham\\tHello! Just got here, st andrews-boy its a long way! Its cold. I will keep you posted\\n',\n",
              " 'ham\\tHa ha cool cool chikku chikku:-):-DB-)\\n',\n",
              " 'ham\\tOh ok no prob..\\n',\n",
              " \"ham\\tCheck audrey's status right now\\n\",\n",
              " 'ham\\tBusy here. Trying to finish for new year. I am looking forward to finally meeting you...\\n',\n",
              " 'ham\\tGood afternoon sunshine! How dawns that day ? Are we refreshed and happy to be alive? Do we breathe in the air and smile ? I think of you, my love ... As always\\n',\n",
              " 'ham\\tWell i know Z will take care of me. So no worries.\\n',\n",
              " 'spam\\tUpdate_Now - Xmas Offer! Latest Motorola, SonyEricsson & Nokia & FREE Bluetooth! Double Mins & 1000 Txt on Orange. Call MobileUpd8 on 08000839402 or call2optout/F4Q=\\n',\n",
              " 'spam\\tHere is your discount code RP176781. To stop further messages reply stop. www.regalportfolio.co.uk. Customer Services 08717205546\\n',\n",
              " 'ham\\tWat uniform? In where get?\\n',\n",
              " \"ham\\tCool, text me when you're ready\\n\",\n",
              " 'ham\\tHello my boytoy ... Geeee I miss you already and I just woke up. I wish you were here in bed with me, cuddling me. I love you ...\\n',\n",
              " 'ham\\tI will spoil you in bed as well :)\\n',\n",
              " \"ham\\tI'm going for bath will msg you next  &lt;#&gt;  min..\\n\",\n",
              " 'ham\\tI cant keep talking to people if am not sure i can pay them if they agree to price. So pls tell me what you want to really buy and how much you are willing to pay\\n',\n",
              " 'spam\\tThanks for your Ringtone Order, Reference T91. You will be charged GBP 4 per week. You can unsubscribe at anytime by calling customer services on 09057039994\\n',\n",
              " 'ham\\tCan you say what happen\\n',\n",
              " \"ham\\tYou could have seen me..i did't recognise you Face.:)\\n\",\n",
              " \"ham\\tWell there's not a lot of things happening in Lindsay on New years *sighs* Some bars in Ptbo and the blue heron has something going\\n\",\n",
              " 'ham\\tKeep my payasam there if rinu brings\\n',\n",
              " 'ham\\tI taught that Ranjith sir called me. So only i sms like that. Becaus hes verifying about project. Prabu told today so only pa dont mistake me..\\n',\n",
              " \"ham\\tI guess that's why you re worried. You must know that there's a way the body repairs itself. And i'm quite sure you shouldn't worry. We'll take it slow. First the tests, they will guide when your ovulation is then just relax. Nothing you've said is a reason to worry but i.ll keep on followin you up.\\n\",\n",
              " 'ham\\tYeah sure, give me a couple minutes to track down my wallet\\n',\n",
              " 'ham\\tHey leave it. not a big deal:-) take care.\\n',\n",
              " 'ham\\tHey i will be late ah... Meet you at 945+\\n',\n",
              " 'spam\\tDouble mins and txts 4 6months FREE Bluetooth on Orange. Available on Sony, Nokia Motorola phones. Call MobileUpd8 on 08000839402 or call2optout/N9DX\\n',\n",
              " 'ham\\tIt took Mr owl 3 licks\\n',\n",
              " 'ham\\tCustomer place i will call you.\\n',\n",
              " 'ham\\tMm that time you dont like fun\\n',\n",
              " 'spam\\t4mths half price Orange line rental & latest camera phones 4 FREE. Had your phone 11mths ? Call MobilesDirect free on 08000938767 to update now! or2stoptxt\\n',\n",
              " 'ham\\tYup having my lunch buffet now.. U eat already?\\n',\n",
              " 'ham\\tHuh so late... Fr dinner?\\n',\n",
              " 'ham\\tHey so this sat are we going for the intro pilates only? Or the kickboxing too? \\n',\n",
              " 'ham\\tMorning only i can ok.\\n',\n",
              " 'ham\\tYes i think so. I am in office but my lap is in room i think thats on for the last few days. I didnt shut that down\\n',\n",
              " 'ham\\tPick you up bout 7.30ish? What time are  and that going?\\n',\n",
              " 'ham\\tFrom here after The performance award is calculated every two month.not for current one month period..\\n',\n",
              " 'ham\\tWas actually sleeping and still might when u call back. So a text is gr8. You rock sis. Will send u a text wen i wake.\\n',\n",
              " \"ham\\tYou are always putting your business out there. You put pictures of your ass on facebook. You are one of the most open people i've ever met. Why would i think a picture of your room would hurt you, make you feel violated.\\n\",\n",
              " 'ham\\tGood evening Sir, Al Salam Wahleykkum.sharing a happy news.By the grace of God, i got an offer from Tayseer,TISSCO and i joined.Hope you are fine.Inshah Allah,meet you sometime.Rakhesh,visitor from India.\\n',\n",
              " 'ham\\tHmmm...k...but i want to change the field quickly da:-)i wanna get system administrator or network administrator..\\n',\n",
              " 'spam\\tFREE RINGTONE text FIRST to 87131 for a poly or text GET to 87131 for a true tone! Help? 0845 2814032 16 after 1st free, tones are 3x£150pw to e£nd txt stop\\n',\n",
              " 'ham\\tDear how is chechi. Did you talk to her\\n',\n",
              " 'ham\\tThe hair cream has not been shipped.\\n',\n",
              " \"ham\\tNone of that's happening til you get here though\\n\",\n",
              " 'ham\\tYep, the great loxahatchee xmas tree burning of  &lt;#&gt;  starts in an hour\\n',\n",
              " 'ham\\tHaha get used to driving to usf man, I know a lot of stoners\\n',\n",
              " \"ham\\tAll was well until slightly disastrous class this pm with my fav darlings! Hope day off ok. Coffee wld be good as can't stay late tomorrow. Same time + place as always?\\n\",\n",
              " 'ham\\tHello! Good week? Fancy a drink or something later?\\n',\n",
              " 'ham\\tHeadin towards busetop\\n',\n",
              " 'ham\\tMessage:some text missing* Sender:Name Missing* *Number Missing *Sent:Date missing *Missing U a lot thats y everything is missing sent via fullonsms.com\\n',\n",
              " 'ham\\tCome by our room at some point so we can iron out the plan for this weekend\\n',\n",
              " 'ham\\tCos i want it to be your thing\\n',\n",
              " \"ham\\tOkies... I'll go yan jiu too... We can skip ard oso, go cine den go mrt one, blah blah blah... \\n\",\n",
              " 'ham\\tBring home some Wendy =D\\n',\n",
              " 'spam\\t100 dating service cal;l 09064012103 box334sk38ch\\n',\n",
              " 'ham\\tWhatsup there. Dont u want to sleep\\n',\n",
              " 'ham\\tAlright i have a new goal now\\n',\n",
              " 'spam\\tFREE entry into our £250 weekly competition just text the word WIN to 80086 NOW. 18 T&C www.txttowin.co.uk\\n',\n",
              " \"ham\\tAlright, I'll head out in a few minutes, text me where to meet you\\n\",\n",
              " 'spam\\tSend a logo 2 ur lover - 2 names joined by a heart. Txt LOVE NAME1 NAME2 MOBNO eg LOVE ADAM EVE 07123456789 to 87077 Yahoo! POBox36504W45WQ TxtNO 4 no ads 150p\\n',\n",
              " \"ham\\tYes:)from last week itself i'm taking live call.\\n\",\n",
              " 'spam\\tSomeone has contacted our dating service and entered your phone because they fancy you! To find out who it is call from a landline 09111032124 . PoBox12n146tf150p\\n',\n",
              " 'ham\\tSiva is in hostel aha:-.\\n',\n",
              " 'spam\\tURGENT! Your Mobile number has been awarded with a £2000 prize GUARANTEED. Call 09058094455 from land line. Claim 3030. Valid 12hrs only\\n',\n",
              " 'ham\\tSend this to ur friends and receive something about ur voice..... How is my speaking expression? 1.childish 2.naughty 3.Sentiment 4.rowdy 5.ful of attitude 6.romantic 7.shy 8.Attractive 9.funny  &lt;#&gt; .irritating  &lt;#&gt; .lovable. reply me..\\n',\n",
              " \"ham\\tOk. She'll be ok. I guess\\n\",\n",
              " 'ham\\taathi..where are you dear..\\n',\n",
              " 'ham\\tAny pain on urination any thing else?\\n',\n",
              " 'ham\\t7 at esplanade.. Do ü mind giving me a lift cos i got no car today..\\n',\n",
              " 'ham\\tI wnt to buy a BMW car urgently..its vry urgent.but hv a shortage of  &lt;#&gt; Lacs.there is no source to arng dis amt. &lt;#&gt; lacs..thats my prob\\n',\n",
              " 'ham\\tAt home watching tv lor.\\n',\n",
              " 'ham\\tDoes she usually take fifteen fucking minutes to respond to a yes or no question\\n',\n",
              " 'spam\\tCongrats! Nokia 3650 video camera phone is your Call 09066382422 Calls cost 150ppm Ave call 3mins vary from mobiles 16+ Close 300603 post BCM4284 Ldn WC1N3XX\\n',\n",
              " 'ham\\tBooked ticket for pongal?\\n',\n",
              " \"ham\\tYou available now? I'm like right around hillsborough &amp;  &lt;#&gt; th\\n\",\n",
              " 'ham\\tThe message sent is askin for  &lt;#&gt; dollars. Shoul i pay  &lt;#&gt;  or  &lt;#&gt; ?\\n',\n",
              " \"ham\\tAsk g or iouri, I've told the story like ten times already\\n\",\n",
              " 'ham\\tHow long does applebees fucking take\\n',\n",
              " 'ham\\tHi hope u get this txt~journey hasnt been gd,now about 50 mins late I think.\\n',\n",
              " 'ham\\tBut i have to. I like to have love and arrange.\\n',\n",
              " 'ham\\tYes..he is really great..bhaji told kallis best cricketer after sachin in world:).very tough to get out.\\n',\n",
              " 'ham\\tYou were supposed to wake ME up &gt;:(\\n',\n",
              " 'ham\\tOic... I saw him too but i tot he din c me... I found a group liao...\\n',\n",
              " \"ham\\tSorry, I'll call later\\n\",\n",
              " 'ham\\t\"HEY HEY WERETHE MONKEESPEOPLE SAY WE MONKEYAROUND! HOWDY GORGEOUS, HOWU DOIN? FOUNDURSELF A JOBYET SAUSAGE?LOVE JEN XXX\"\\n',\n",
              " \"ham\\tSorry, my battery died, I can come by but I'm only getting a gram for now, where's your place?\\n\",\n",
              " 'ham\\tWell done, blimey, exercise, yeah, i kinda remember wot that is, hmm. \\n',\n",
              " 'ham\\tI wont get concentration dear you know you are my mind and everything :-)\\n',\n",
              " 'ham\\tLOL ... Have you made plans for new years?\\n',\n",
              " 'ham\\t10 min later k...\\n',\n",
              " 'ham\\thanks lotsly!\\n',\n",
              " 'ham\\tThanks for this hope you had a good day today\\n',\n",
              " 'ham\\tK:)k:)what are detail you want to transfer?acc no enough?\\n',\n",
              " 'ham\\tOk i will tell her to stay out. Yeah its been tough but we are optimistic things will improve this month.\\n',\n",
              " \"spam\\tLoan for any purpose £500 - £75,000. Homeowners + Tenants welcome. Have you been previously refused? We can still help. Call Free 0800 1956669 or text back 'help'\\n\",\n",
              " 'ham\\tSi si. I think ill go make those oreo truffles.\\n',\n",
              " 'ham\\tLOOK AT AMY URE A BEAUTIFUL, INTELLIGENT WOMAN AND I LIKE U A LOT. I KNOW U DON\\x92T LIKE ME LIKE THAT SO DON\\x92T WORRY.\\n',\n",
              " \"ham\\tI hope you that's the result of being consistently intelligent and kind. Start asking him about practicum links and keep your ears open and all the best. ttyl\\n\",\n",
              " 'ham\\t1.20 that call cost. Which i guess isnt bad. Miss ya, need ya, want ya, love ya\\n',\n",
              " 'ham\\tGoing thru a very different feeling.wavering decisions and coping up with the same is the same individual.time will heal everything i believe.\\n',\n",
              " 'ham\\tWhere did u go? My phone is gonna die you have to stay in here\\n',\n",
              " 'ham\\tGreat. Never been better. Each day gives even more reasons to thank God\\n',\n",
              " \"spam\\tUpgrdCentre Orange customer, you may now claim your FREE CAMERA PHONE upgrade for your loyalty. Call now on 0207 153 9153. Offer ends 26th July. T&C's apply. Opt-out available\\n\",\n",
              " \"ham\\tSorry, I'll call later ok bye\\n\",\n",
              " 'ham\\tOk i am on the way to railway\\n',\n",
              " 'ham\\tgreat princess! I love giving and receiving oral. Doggy style is my fave position. How about you? I enjoy making love  &lt;#&gt;  times per night :)\\n',\n",
              " \"ham\\tThey don't put that stuff on the roads to keep it from getting slippery over there?\\n\",\n",
              " 'ham\\tWhen are you going to ride your bike?\\n',\n",
              " \"ham\\tYup, no need. I'll jus wait 4 e rain 2 stop.\\n\",\n",
              " 'ham\\tThere are many company. Tell me the language.\\n',\n",
              " 'spam\\tokmail: Dear Dave this is your final notice to collect your 4* Tenerife Holiday or #5000 CASH award! Call 09061743806 from landline. TCs SAE Box326 CW25WX 150ppm\\n',\n",
              " 'ham\\tHow long has it been since you screamed, princess?\\n',\n",
              " 'ham\\tNothing. I meant that once the money enters your account here, the bank will remove its flat rate. Someone transfered  &lt;#&gt;  to my account and  &lt;#&gt; dollars got removed. So the banks differ and charges also differ.be sure you trust the 9ja person you are sending account details to cos...\\n',\n",
              " \"spam\\tWant 2 get laid tonight? Want real Dogging locations sent direct 2 ur Mob? Join the UK's largest Dogging Network by txting MOAN to 69888Nyt. ec2a. 31p.msg@150p\\n\",\n",
              " \"ham\\tNice line said by a broken heart- Plz don't cum 1 more times infront of me... Other wise once again I ll trust U... Good 9t:)\\n\",\n",
              " \"ham\\tOk I'm gonna head up to usf in like fifteen minutes\\n\",\n",
              " 'ham\\tLove you aathi..love u lot..\\n',\n",
              " 'ham\\tTension ah?what machi?any problem?\\n',\n",
              " \"ham\\tK, can I pick up another 8th when you're done?\\n\",\n",
              " \"ham\\tWhen're you guys getting back? G said you were thinking about not staying for mcr\\n\",\n",
              " 'ham\\tAlmost there, see u in a sec\\n',\n",
              " 'ham\\tYo carlos, a few friends are already asking me about you, you working at all this weekend?\\n',\n",
              " 'ham\\tWatching tv lor...\\n',\n",
              " 'ham\\tThank you baby! I cant wait to taste the real thing...\\n',\n",
              " 'ham\\tYou should change your fb to jaykwon thuglyfe falconerf\\n',\n",
              " 'ham\\tIf we win its really no 1 side for long time.\\n',\n",
              " 'spam\\tFREE MESSAGE Activate your 500 FREE Text Messages by replying to this message with the word FREE For terms & conditions, visit www.07781482378.com\\n',\n",
              " 'ham\\tDear reached railway. What happen to you\\n',\n",
              " 'ham\\tDepends on quality. If you want the type i sent boye, faded glory, then about 6. If you want ralphs maybe 2\\n',\n",
              " \"ham\\tI think i've fixed it can you send a test message?\\n\",\n",
              " \"ham\\tSorry man my account's dry or I would, if you want we could trade back half or I could buy some shit with my credit card\\n\",\n",
              " 'spam\\tCongrats! 1 year special cinema pass for 2 is yours. call 09061209465 now! C Suprman V, Matrix3, StarWars3, etc all 4 FREE! bx420-ip4-5we. 150pm. Dont miss out!\\n',\n",
              " \"ham\\tSorry,in meeting I'll call later\\n\",\n",
              " 'ham\\tWhat class of  &lt;#&gt;  reunion?\\n',\n",
              " 'ham\\tAre you free now?can i call now?\\n',\n",
              " 'ham\\tGot meh... When?\\n',\n",
              " 'ham\\tNope... Think i will go for it on monday... Sorry i replied so late\\n',\n",
              " 'ham\\tSome of them told accenture is not confirm. Is it true.\\n',\n",
              " 'ham\\tKate jackson rec center before 7ish, right?\\n',\n",
              " 'ham\\tDear i have reache room\\n',\n",
              " 'ham\\tFighting with the world is easy, u either win or lose bt fightng with some1 who is close to u is dificult if u lose - u lose if u win - u still lose.\\n',\n",
              " 'ham\\tWhen can ü come out?\\n',\n",
              " 'ham\\tCheck with nuerologist.\\n',\n",
              " 'ham\\tLolnice. I went from a fish to ..water.?\\n',\n",
              " \"spam\\t+123 Congratulations - in this week's competition draw u have won the £1450 prize to claim just call 09050002311 b4280703. T&Cs/stop SMS 08718727868. Over 18 only 150ppm\\n\",\n",
              " \"ham\\tNo it's waiting in e car dat's bored wat. Cos wait outside got nothing 2 do. At home can do my stuff or watch tv wat.\\n\",\n",
              " 'ham\\tMaybe westshore or hyde park village, the place near my house?\\n',\n",
              " \"ham\\tYou should know now. So how's anthony. Are you bringing money. I've school fees to pay and rent and stuff like that. Thats why i need your help. A friend in need....|\\n\",\n",
              " \"ham\\tWhat's the significance?\\n\",\n",
              " 'ham\\tYour opinion about me? 1. Over 2. Jada 3. Kusruthi 4. Lovable 5. Silent 6. Spl character 7. Not matured 8. Stylish 9. Simple Pls reply..\\n',\n",
              " \"ham\\t8 at the latest, g's still there if you can scrounge up some ammo and want to give the new ak a try\\n\",\n",
              " \"ham\\tPrabha..i'm soryda..realy..frm heart i'm sory\\n\",\n",
              " 'ham\\tLol ok your forgiven :)\\n',\n",
              " 'ham\\tNo..jst change tat only..\\n',\n",
              " 'spam\\tYou are guaranteed the latest Nokia Phone, a 40GB iPod MP3 player or a £500 prize! Txt word: COLLECT to No: 83355! IBHltd LdnW15H 150p/Mtmsgrcvd18+\\n',\n",
              " 'ham\\tS:)no competition for him.\\n',\n",
              " 'spam\\tBoltblue tones for 150p Reply POLY# or MONO# eg POLY3 1. Cha Cha Slide 2. Yeah 3. Slow Jamz 6. Toxic 8. Come With Me or STOP 4 more tones txt MORE\\n',\n",
              " 'spam\\tYour credits have been topped up for http://www.bubbletext.com Your renewal Pin is tgxxrz\\n',\n",
              " 'ham\\tThat way transport is less problematic than on sat night. By the way, if u want to ask  n  to join my bday, feel free. But need to know definite nos as booking on fri. \\n',\n",
              " \"ham\\tUsually the person is unconscious that's in children but in adults they may just behave abnormally. I.ll call you now\\n\",\n",
              " \"ham\\tBut that's on ebay it might be less elsewhere.\\n\",\n",
              " 'ham\\tShall i come to get pickle\\n',\n",
              " 'ham\\tWere gonna go get some tacos\\n',\n",
              " \"ham\\tThat's very rude, you on campus?\\n\",\n",
              " 'spam\\tURGENT!: Your Mobile No. was awarded a £2,000 Bonus Caller Prize on 02/09/03! This is our 2nd attempt to contact YOU! Call 0871-872-9755 BOX95QU\\n',\n",
              " \"ham\\tHi i won't b ard 4 christmas. But do enjoy n merry x'mas.\\n\",\n",
              " \"spam\\tToday's Offer! Claim ur £150 worth of discount vouchers! Text YES to 85023 now! SavaMob, member offers mobile! T Cs 08717898035. £3.00 Sub. 16 . Unsub reply X\\n\",\n",
              " 'ham\\tYes! How is a pretty lady like you single?\\n',\n",
              " 'spam\\tYou will recieve your tone within the next 24hrs. For Terms and conditions please see Channel U Teletext Pg 750\\n',\n",
              " \"ham\\tJay says that you're a double-faggot\\n\",\n",
              " 'spam\\tPRIVATE! Your 2003 Account Statement for 07815296484 shows 800 un-redeemed S.I.M. points. Call 08718738001 Identifier Code 41782 Expires 18/11/04 \\n',\n",
              " 'ham\\tWhat Today-sunday..sunday is holiday..so no work..\\n',\n",
              " 'ham\\tGudnite....tc...practice going on\\n',\n",
              " \"ham\\tI'll be late...\\n\",\n",
              " \"ham\\tI've not called you in a while. This is hoping it was l8r malaria and that you know that we miss you guys. I miss Bani big, so pls give her my love especially. Have a great day.\\n\",\n",
              " 'ham\\tGood afternoon, my love! How goes that day ? I hope maybe you got some leads on a job. I think of you, boytoy and send you a passionate kiss from across the sea\\n',\n",
              " 'ham\\tProbably gonna be here for a while, see you later tonight &lt;)\\n',\n",
              " \"ham\\tOr maybe my fat fingers just press all these buttons and it doesn't know what to do.\\n\",\n",
              " 'ham\\tUmmmmmaah Many many happy returns of d day my dear sweet heart.. HAPPY BIRTHDAY dear\\n',\n",
              " 'ham\\tI am in tirupur da, once you started from office call me.\\n',\n",
              " 'spam\\tfrom www.Applausestore.com MonthlySubscription@50p/msg max6/month T&CsC web age16 2stop txt stop\\n',\n",
              " \"ham\\tA famous quote : when you develop the ability to listen to 'anything' unconditionally without losing your temper or self confidence, it means you are ......... 'MARRIED'\\n\",\n",
              " 'ham\\tBut am going to college pa. What to do. are else ill come there it self. Pa.\\n',\n",
              " 'ham\\t4 oclock at mine. Just to bash out a flat plan.\\n',\n",
              " \"ham\\tThis girl does not stay in bed. This girl doesn't need recovery time. Id rather pass out while having fun then be cooped up in bed\\n\",\n",
              " 'ham\\tThen any special there?\\n',\n",
              " \"ham\\tI know but you need to get hotel now. I just got my invitation but i had to apologise. Cali is to sweet for me to come to some english bloke's weddin\\n\",\n",
              " 'ham\\tSorry that took so long, omw now\\n',\n",
              " 'ham\\tWait  &lt;#&gt;  min..\\n',\n",
              " \"ham\\tOk give me 5 minutes I think I see her. BTW you're my alibi. You were cutting my hair the whole time.\\n\",\n",
              " 'ham\\tImagine you finally get to sink into that bath after I have put you through your paces, maybe even having you eat me for a while before I left ... But also imagine the feel of that cage on your cock surrounded by the bath water, reminding you always who owns you ... Enjoy, my cuck\\n',\n",
              " \"ham\\tHurry up, I've been weed-deficient for like three days\\n\",\n",
              " \"ham\\tSure, if I get an acknowledgement from you that it's astoundingly tactless and generally faggy to demand a blood oath fo\\n\",\n",
              " \"ham\\tOk. Every night take a warm bath drink a cup of milk and you'll see a work of magic. You still need to loose weight. Just so that you know\\n\",\n",
              " 'ham\\tI‘ll have a look at the frying pan in case it‘s cheap or a book perhaps. No that‘s silly a frying pan isn‘t likely to be a book\\n',\n",
              " 'ham\\tO. Well uv causes mutations. Sunscreen is like essential thesedays\\n',\n",
              " 'ham\\tHaving lunch:)you are not in online?why?\\n',\n",
              " 'ham\\tI know that my friend already told that.\\n',\n",
              " 'ham\\tHi Princess! Thank you for the pics. You are very pretty. How are you?\\n',\n",
              " 'ham\\tAiyo... U always c our ex one... I dunno abt mei, she haven reply... First time u reply so fast... Y so lucky not workin huh, got bao by ur sugardad ah...gee.. \\n',\n",
              " \"ham\\tHi msg me:)i'm in office..\\n\",\n",
              " \"ham\\tThanx 4 e brownie it's v nice...\\n\",\n",
              " 'ham\\tGeeeee ... I love you so much I can barely stand it\\n',\n",
              " 'spam\\tGENT! We are trying to contact you. Last weekends draw shows that you won a £1000 prize GUARANTEED. Call 09064012160. Claim Code K52. Valid 12hrs only. 150ppm \\n',\n",
              " \"ham\\tFuck babe ... I miss you already, you know ? Can't you let me send you some money towards your net ? I need you ... I want you ... I crave you ...\\n\",\n",
              " 'ham\\tIll call u 2mrw at ninish, with my address that icky American freek wont stop callin me 2 bad Jen k eh?\\n',\n",
              " 'ham\\tOooh bed ridden ey? What are YOU thinking of?\\n',\n",
              " 'ham\\tSo anyways, you can just go to your gym or whatever, my love *smiles* I hope your ok and having a good day babe ... I miss you so much already\\n',\n",
              " 'ham\\tLove it! Daddy will make you scream with pleasure! I am going to slap your ass with my dick!\\n',\n",
              " 'ham\\tWOT U WANNA DO THEN MISSY?\\n',\n",
              " 'ham\\tYar lor wait 4 my mum 2 finish sch then have lunch lor... I whole morning stay at home clean my room now my room quite clean... Hee...\\n',\n",
              " 'ham\\tDo you know where my lab goggles went\\n',\n",
              " 'ham\\tCan you open the door?\\n',\n",
              " 'ham\\tWaiting for your call.\\n',\n",
              " 'ham\\tNope i waiting in sch 4 daddy... \\n',\n",
              " 'spam\\tYou have won ?1,000 cash or a ?2,000 prize! To claim, call09050000327\\n',\n",
              " \"ham\\tI'm tired of arguing with you about this week after week. Do what you want and from now on, i'll do the same.\\n\",\n",
              " 'ham\\tÜ wait 4 me in sch i finish ard 5..\\n',\n",
              " 'spam\\tour mobile number has won £5000, to claim calls us back or ring the claims hot line on 09050005321.\\n',\n",
              " 'ham\\tArngd marriage is while u r walkin unfortuntly a snake bites u. bt love marriage is dancing in frnt of d snake &amp; sayin Bite me, bite me.\\n',\n",
              " 'ham\\tHuh so early.. Then ü having dinner outside izzit?\\n',\n",
              " 'ham\\tOk anyway no need to change with what you said\\n',\n",
              " 'spam\\tWe tried to contact you re your reply to our offer of 750 mins 150 textand a new video phone call 08002988890 now or reply for free delivery tomorrow\\n',\n",
              " 'ham\\tmy ex-wife was not able to have kids. Do you want kids one day?\\n',\n",
              " \"ham\\tSo how's scotland. Hope you are not over showing your JJC tendencies. Take care. Live the dream\\n\",\n",
              " 'ham\\tTell them u have a headache and just want to use 1 hour of sick time.\\n',\n",
              " \"ham\\tI dun thk i'll quit yet... Hmmm, can go jazz ? Yogasana oso can... We can go meet em after our lessons den... \\n\",\n",
              " 'ham\\t\"Pete can you please ring meive hardly gotany credit\"\\n',\n",
              " 'ham\\tYa srsly better than yi tho\\n',\n",
              " \"ham\\tI'm in a meeting, call me later at\\n\",\n",
              " \"spam\\tFor ur chance to win a £250 wkly shopping spree TXT: SHOP to 80878. T's&C's www.txt-2-shop.com custcare 08715705022, 1x150p/wk\\n\",\n",
              " 'spam\\tYou have been specially selected to receive a 2000 pound award! Call 08712402050 BEFORE the lines close. Cost 10ppm. 16+. T&Cs apply. AG Promo\\n',\n",
              " 'spam\\tPRIVATE! Your 2003 Account Statement for 07753741225 shows 800 un-redeemed S. I. M. points. Call 08715203677 Identifier Code: 42478 Expires 24/10/04\\n',\n",
              " 'ham\\tYou still at grand prix?\\n',\n",
              " 'ham\\tI met you as a stranger and choose you as my friend. As long as the world stands, our friendship never ends. Lets be Friends forever!!! Gud nitz...\\n',\n",
              " 'ham\\tI am great! How are you?\\n',\n",
              " 'ham\\tGud mrng dear have a nice day\\n',\n",
              " 'spam\\tYou have an important customer service announcement. Call FREEPHONE 0800 542 0825 now!\\n',\n",
              " 'ham\\tWill do. Was exhausted on train this morning. Too much wine and pie. You sleep well too\\n',\n",
              " \"ham\\tI'm going out to buy mum's present ar.\\n\",\n",
              " 'ham\\tMind blastin.. No more Tsunamis will occur from now on.. Rajnikant stopped swimming in Indian Ocean..:-D\\n',\n",
              " \"ham\\tIf u sending her home first it's ok lor. I'm not ready yet.\\n\",\n",
              " 'ham\\tSpeaking of does he have any cash yet?\\n',\n",
              " 'ham\\tBe happy there. I will come after noon\\n',\n",
              " 'ham\\tMeet after lunch la...\\n',\n",
              " 'ham\\tTaKe CaRE n gET WeLL sOOn\\n',\n",
              " 'spam\\tXCLUSIVE@CLUBSAISAI 2MOROW 28/5 SOIREE SPECIALE ZOUK WITH NICHOLS FROM PARIS.FREE ROSES 2 ALL LADIES !!! info: 07946746291/07880867867 \\n',\n",
              " 'ham\\twhat I meant to say is cant wait to see u again getting bored of this bridgwater banter\\n',\n",
              " \"ham\\tNeva mind it's ok..\\n\",\n",
              " \"ham\\tIt's fine, imma get a drink or somethin. Want me to come find you?\\n\",\n",
              " 'spam\\t22 days to kick off! For Euro2004 U will be kept up to date with the latest news and results daily. To be removed send GET TXT STOP to 83222\\n',\n",
              " 'ham\\tIts a valentine game. . . Send dis msg to all ur friends. .. If 5 answers r d same then someone really loves u. Ques- which colour suits me the best?rply me\\n',\n",
              " 'ham\\tI have many dependents\\n',\n",
              " 'ham\\tTHANX4 TODAY CER IT WAS NICE 2 CATCH UP BUT WE AVE 2 FIND MORE TIME MORE OFTEN OH WELL TAKE CARE C U SOON.C\\n',\n",
              " 'ham\\tI called and said all to him:)then he have to choose this future.\\n',\n",
              " 'ham\\t\"Happy valentines day\" I know its early but i have hundreds of handsomes and beauties to wish. So i thought to finish off aunties and uncles 1st...\\n',\n",
              " 'ham\\tHe like not v shock leh. Cos telling shuhui is like telling leona also. Like dat almost all know liao. He got ask me abt ur reaction lor.\\n',\n",
              " 'ham\\tFor my family happiness..\\n',\n",
              " 'ham\\tI come n pick ü up... Come out immediately aft ur lesson...\\n',\n",
              " 'ham\\tLet there be snow. Let there be snow. This kind of weather brings ppl together so friendships can grow.\\n',\n",
              " 'ham\\tDear we got  &lt;#&gt;  dollars hi hi\\n',\n",
              " 'ham\\tGood words.... But words may leave u in dismay many times.\\n',\n",
              " \"ham\\tMAKE SURE ALEX KNOWS HIS BIRTHDAY IS OVER IN FIFTEEN MINUTES AS FAR AS YOU'RE CONCERNED\\n\",\n",
              " 'ham\\tsorry, no, have got few things to do. may be in pub later.\\n',\n",
              " \"ham\\tNah it's straight, if you can just bring bud or drinks or something that's actually a little more useful than straight cash\\n\",\n",
              " \"ham\\tHaha good to hear, I'm officially paid and on the market for an 8th\\n\",\n",
              " 'ham\\tHow many licks does it take to get to the center of a tootsie pop?\\n',\n",
              " 'ham\\tYup i thk they r e teacher said that will make my face look longer. Darren ask me not 2 cut too short.\\n',\n",
              " 'spam\\tNew TEXTBUDDY Chat 2 horny guys in ur area 4 just 25p Free 2 receive Search postcode or at gaytextbuddy.com. TXT ONE name to 89693\\n',\n",
              " 'spam\\tTodays Vodafone numbers ending with 4882 are selected to a receive a £350 award. If your number matches call 09064019014 to receive your £350 award.\\n',\n",
              " 'ham\\tPlease dont say like that. Hi hi hi\\n',\n",
              " 'ham\\tThank u!\\n',\n",
              " 'ham\\tOh that was a forwarded message. I thought you send that to me\\n',\n",
              " 'ham\\tGot it. Seventeen pounds for seven hundred ml – hope ok.\\n',\n",
              " 'spam\\tDear Voucher Holder, 2 claim this weeks offer, at your PC go to http://www.e-tlp.co.uk/expressoffer Ts&Cs apply.2 stop texts txt STOP to 80062.\\n',\n",
              " 'ham\\tMe n him so funny...\\n',\n",
              " 'ham\\tSweetheart, hope you are not having that kind of day! Have one with loads of reasons to smile. Biola\\n',\n",
              " 'ham\\tWhen ü login dat time... Dad fetching ü home now?\\n',\n",
              " 'ham\\tWhat will we do in the shower, baby?\\n',\n",
              " 'ham\\tI had askd u a question some hours before. Its answer\\n',\n",
              " \"ham\\tWell imma definitely need to restock before thanksgiving, I'll let you know when I'm out\\n\",\n",
              " \"ham\\t said kiss, kiss, i can't do the sound effects! He is a gorgeous man isn't he! Kind of person who needs a smile to brighten his day! \\n\",\n",
              " 'ham\\tProbably gonna swing by in a wee bit\\n',\n",
              " 'ham\\tYa very nice. . .be ready on thursday\\n',\n",
              " 'ham\\tAllo! We have braved the buses and taken on the trains and triumphed. I mean we‘re in b‘ham. Have a jolly good rest of week\\n',\n",
              " 'ham\\tWatching cartoon, listening music &amp; at eve had to go temple &amp; church.. What about u?\\n',\n",
              " 'ham\\tDo you mind if I ask what happened? You dont have to say if it is uncomfortable.\\n',\n",
              " 'spam\\tPRIVATE! Your 2003 Account Statement for shows 800 un-redeemed S. I. M. points. Call 08715203694 Identifier Code: 40533 Expires 31/10/04\\n',\n",
              " 'ham\\tNo prob. I will send to your email.\\n',\n",
              " 'spam\\tYou have won ?1,000 cash or a ?2,000 prize! To claim, call09050000327. T&C: RSTM, SW7 3SS. 150ppm\\n',\n",
              " 'ham\\tThats cool! Sometimes slow and gentle. Sonetimes rough and hard :)\\n',\n",
              " \"ham\\tI'm gonna say no. Sorry. I would but as normal am starting to panic about time. Sorry again! Are you seeing on Tuesday?\\n\",\n",
              " 'ham\\tWait, do you know if wesleys in town? I bet she does hella drugs!\\n',\n",
              " 'ham\\tFine i miss you very much.\\n',\n",
              " 'ham\\tDid u got that persons story\\n',\n",
              " \"ham\\tTell them the drug dealer's getting impatient\\n\",\n",
              " 'ham\\tSun cant come to earth but send luv as rays. cloud cant come to river but send luv as rain. I cant come to meet U, but can send my care as msg to U. Gud evng\\n',\n",
              " 'ham\\tYou will be in the place of that man\\n',\n",
              " 'ham\\tIt doesnt make sense to take it there unless its free. If you need to know more, wikipedia.com\\n',\n",
              " 'spam\\t88800 and 89034 are premium phone services call 08718711108\\n',\n",
              " \"ham\\tUnder the sea, there lays a rock. In the rock, there is an envelope. In the envelope, there is a paper. On the paper, there are 3 words... '\\n\",\n",
              " \"ham\\tThen mum's repent how?\\n\",\n",
              " 'ham\\tSorry me going home first... Daddy come fetch ü later...\\n',\n",
              " 'ham\\tLeave it de:-). Start Prepare for next:-)..\\n',\n",
              " 'ham\\tYes baby! We can study all the positions of the kama sutra ;)\\n',\n",
              " 'ham\\tEn chikku nange bakra msg kalstiya..then had tea/coffee?\\n',\n",
              " \"ham\\tCarlos'll be here in a minute if you still need to buy\\n\",\n",
              " 'ham\\tThis pay is  &lt;DECIMAL&gt;  lakhs:)\\n',\n",
              " 'ham\\tHave a good evening! Ttyl\\n',\n",
              " 'ham\\tDid u receive my msg?\\n',\n",
              " 'ham\\tHo ho - big belly laugh! See ya tomo\\n',\n",
              " 'spam\\tSMS. ac sun0819 posts HELLO:\"You seem cool, wanted to say hi. HI!!!\" Stop? Send STOP to 62468\\n',\n",
              " 'spam\\tGet ur 1st RINGTONE FREE NOW! Reply to this msg with TONE. Gr8 TOP 20 tones to your phone every week just £1.50 per wk 2 opt out send STOP 08452810071 16\\n',\n",
              " \"ham\\tDitto. And you won't have to worry about me saying ANYTHING to you anymore. Like i said last night, you do whatever you want and i'll do the same. Peace.\\n\",\n",
              " \"ham\\tI've got  &lt;#&gt; , any way I could pick up?\\n\",\n",
              " 'ham\\tI dont knw pa, i just drink milk..\\n',\n",
              " 'ham\\tMaybe?! Say hi to  and find out if  got his card. Great escape or wetherspoons? \\n',\n",
              " \"ham\\tPiggy, r u awake? I bet u're still sleeping. I'm going 4 lunch now...\\n\",\n",
              " \"ham\\tCause I'm not freaky lol\\n\",\n",
              " \"ham\\tMissed your call cause I was yelling at scrappy. Miss u. Can't wait for u to come home. I'm so lonely today.\\n\",\n",
              " \"ham\\tWhat is this 'hex' place you talk of? Explain!\\n\",\n",
              " \"ham\\tÜ log off 4 wat. It's sdryb8i\\n\",\n",
              " 'ham\\tIs xy going 4 e lunch?\\n',\n",
              " \"spam\\tHi I'm sue. I am 20 years old and work as a lapdancer. I love sex. Text me live - I'm i my bedroom now. text SUE to 89555. By TextOperator G2 1DA 150ppmsg 18+\\n\",\n",
              " 'ham\\tI wanted to ask ü to wait 4 me to finish lect. Cos my lect finishes in an hour anyway.\\n',\n",
              " 'ham\\tHave you finished work yet? :)\\n',\n",
              " 'ham\\tEvery King Was Once A Crying Baby And Every Great Building Was Once A Map.. Not Imprtant Where U r TODAY, BUT Where U Wil Reach TOMORW. Gud ni8\\n',\n",
              " 'ham\\tDear,Me at cherthala.in case u r coming cochin pls call bfore u start.i shall also reach accordingly.or tell me which day u r coming.tmorow i am engaged ans its holiday.\\n',\n",
              " 'ham\\tThanks love. But am i doing torch or bold.\\n',\n",
              " 'spam\\t<Forwarded from 448712404000>Please CALL 08712404000 immediately as there is an urgent message waiting for you.\\n',\n",
              " 'ham\\tWas the farm open?\\n',\n",
              " 'ham\\tSorry to trouble u again. Can buy 4d for my dad again? 1405, 1680, 1843. All 2 big 1 small, sat n sun. Thanx.\\n',\n",
              " 'ham\\tMy sister in law, hope you are having a great month. Just saying hey. Abiola\\n',\n",
              " 'ham\\tWill purchase d stuff today and mail to you. Do you have a po box number?\\n',\n",
              " 'ham\\tAh poop. Looks like ill prob have to send in my laptop to get fixed cuz it has a gpu problem\\n',\n",
              " 'ham\\tGood. Good job. I like entrepreneurs\\n',\n",
              " \"ham\\tAight, you close by or still down around alex's place?\\n\",\n",
              " 'ham\\tmeet you in corporation st outside gap … you can see how my mind is working!\\n',\n",
              " 'ham\\tMum ask ü to buy food home...\\n',\n",
              " 'ham\\tK..u also dont msg or reply to his msg..\\n',\n",
              " 'ham\\tHow much r ü willing to pay?\\n',\n",
              " \"ham\\tSorry, I'll call later\\n\",\n",
              " 'ham\\tWhat is important is that you prevent dehydration by giving her enough fluids\\n',\n",
              " 'ham\\tThats a bit weird, even ?- where is the do supposed to be happening? But good idea, sure they will be in pub!\\n',\n",
              " \"ham\\tTrue dear..i sat to pray evening and felt so.so i sms'd you in some time...\\n\",\n",
              " \"ham\\tI don't think I can get away for a trek that long with family in town, sorry\\n\",\n",
              " 'ham\\tSo when do you wanna gym harri\\n',\n",
              " 'ham\\tQuite late lar... Ard 12 anyway i wun b drivin...\\n',\n",
              " 'spam\\tTo review and KEEP the fantastic Nokia N-Gage game deck with Club Nokia, go 2 www.cnupdates.com/newsletter. unsubscribe from alerts reply with the word OUT\\n',\n",
              " 'spam\\t4mths half price Orange line rental & latest camera phones 4 FREE. Had your phone 11mths+? Call MobilesDirect free on 08000938767 to update now! or2stoptxt T&Cs\\n',\n",
              " 'ham\\tHeight of Confidence: All the Aeronautics professors wer calld &amp; they wer askd 2 sit in an aeroplane. Aftr they sat they wer told dat the plane ws made by their students. Dey all hurried out of d plane.. Bt only 1 didnt move... He said:\"if it is made by my students,this wont even start........ Datz confidence..\\n',\n",
              " 'ham\\tIt just seems like weird timing that the night that all you and g want is for me to come smoke is the same day as when a shitstorm is attributed to me always coming over and making everyone smoke\\n',\n",
              " 'spam\\t08714712388 between 10am-7pm Cost 10p\\n',\n",
              " 'ham\\tSave yourself the stress. If the person has a dorm account, just send your account details and the money will be sent to you.\\n',\n",
              " 'ham\\tHe also knows about lunch menu only da. . I know\\n',\n",
              " 'ham\\tWhen i have stuff to sell i.ll tell you\\n',\n",
              " 'spam\\t+449071512431 URGENT! This is the 2nd attempt to contact U!U have WON £1250 CALL 09071512433 b4 050703 T&CsBCM4235WC1N3XX. callcost 150ppm mobilesvary. max£7. 50\\n',\n",
              " \"ham\\tBook which lesson? then you msg me... I will call up after work or sth... I'm going to get specs. My membership is PX3748\\n\",\n",
              " 'spam\\tYou have WON a guaranteed £1000 cash or a £2000 prize. To claim yr prize call our customer service representative on 08714712394 between 10am-7pm\\n',\n",
              " 'ham\\tMacha dont feel upset.i can assume your mindset.believe me one evening with me and i have some wonderful plans for both of us.LET LIFE BEGIN AGAIN.call me anytime\\n',\n",
              " 'ham\\tOh is it? Send me the address\\n',\n",
              " \"ham\\tS'fine. Anytime. All the best with it.\\n\",\n",
              " 'ham\\tThat is wondar full flim.\\n',\n",
              " 'ham\\tYa even those cookies have jelly on them\\n',\n",
              " 'ham\\tThe world is running and i am still.maybe all are feeling the same,so be it.or i have to admit,i am mad.then where is the correction?or let me call this is life.and keep running with the world,may be u r also running.lets run.\\n',\n",
              " 'ham\\tGot it! It looks scrumptious... daddy wants to eat you all night long!\\n',\n",
              " \"ham\\tOf cos can lar i'm not so ba dao ok... 1 pm lor... Y u never ask where we go ah... I said u would ask on fri but he said u will ask today...\\n\",\n",
              " 'ham\\tAlright omw, gotta change my order to a half8th\\n',\n",
              " 'ham\\tExactly. Anyways how far. Is jide her to study or just visiting\\n',\n",
              " 'ham\\tDunno y u ask me.\\n',\n",
              " 'spam\\tEmail AlertFrom: Jeri StewartSize: 2KBSubject: Low-cost prescripiton drvgsTo listen to email call 123\\n',\n",
              " \"ham\\tNo he didn't. Spring is coming early yay!\\n\",\n",
              " \"ham\\tLol you won't feel bad when I use her money to take you out to a steak dinner =D\\n\",\n",
              " 'ham\\tEven u dont get in trouble while convincing..just tel him once or twice and just tel neglect his msgs dont c and read it..just dont reply\\n',\n",
              " 'ham\\tLeaving to qatar tonite in search of an opportunity.all went fast.pls add me in ur prayers dear.Rakhesh\\n',\n",
              " 'ham\\tThen why no one talking to me\\n',\n",
              " 'ham\\tThanks for looking out for me. I really appreciate.\\n',\n",
              " 'spam\\tHi. Customer Loyalty Offer:The NEW Nokia6650 Mobile from ONLY £10 at TXTAUCTION! Txt word: START to No: 81151 & get yours Now! 4T&Ctxt TC 150p/MTmsg\\n',\n",
              " 'ham\\tWish i were with you now!\\n',\n",
              " \"ham\\tHaha mayb u're rite... U know me well. Da feeling of being liked by someone is gd lor. U faster go find one then all gals in our group attached liao.\\n\",\n",
              " 'ham\\tYes i will be there. Glad you made it.\\n',\n",
              " 'ham\\tDo well :)all will for little time. Thing of good times ahead:\\n',\n",
              " \"ham\\tJust got up. have to be out of the room very soon. …. i hadn't put the clocks back til at 8 i shouted at everyone to get up and then realised it was 7. wahay. another hour in bed.\\n\",\n",
              " 'ham\\tOk. There may be a free gym about.\\n',\n",
              " 'ham\\tMen like shorter ladies. Gaze up into his eyes.\\n',\n",
              " 'ham\\tDunno he jus say go lido. Same time 930.\\n',\n",
              " 'ham\\tI promise to take good care of you, princess. I have to run now. Please send pics when you get a chance. Ttyl!\\n',\n",
              " 'spam\\tU are subscribed to the best Mobile Content Service in the UK for £3 per 10 days until you send STOP to 82324. Helpline 08706091795\\n',\n",
              " \"ham\\tIs there a reason we've not spoken this year? Anyways have a great week and all the best in your exam\\n\",\n",
              " 'ham\\tBy monday next week. Give me the full gist\\n',\n",
              " \"spam\\tDo you realize that in about 40 years, we'll have thousands of old ladies running around with tattoos?\\n\",\n",
              " 'spam\\tYou have an important customer service announcement from PREMIER.\\n',\n",
              " 'ham\\tDont gimme that lip caveboy\\n',\n",
              " 'ham\\tWhen did you get to the library\\n',\n",
              " \"ham\\tRealy sorry-i don't recognise this number and am now confused :) who r u please?! \\n\",\n",
              " 'ham\\tSo why didnt you holla?\\n',\n",
              " 'ham\\tCant think of anyone with * spare room off * top of my head\\n',\n",
              " 'ham\\tFaith makes things possible,Hope makes things work,Love makes things beautiful,May you have all three this Christmas!Merry Christmas!\\n',\n",
              " 'ham\\tU should have made an appointment\\n',\n",
              " \"ham\\tCall me when you/carlos is/are here, my phone's vibrate is acting up and I might not hear texts\\n\",\n",
              " 'spam\\tRomantic Paris. 2 nights, 2 flights from £79 Book now 4 next year. Call 08704439680Ts&Cs apply.\\n',\n",
              " 'ham\\tWe are at grandmas. Oh dear, u still ill? I felt Shit this morning but i think i am just hungover! Another night then. We leave on sat.\\n',\n",
              " 'spam\\tUrgent Ur £500 guaranteed award is still unclaimed! Call 09066368327 NOW closingdate04/09/02 claimcode M39M51 £1.50pmmorefrommobile2Bremoved-MobyPOBox734LS27YF\\n',\n",
              " 'ham\\tNothing but we jus tot u would ask cos u ba gua... But we went mt faber yest... Yest jus went out already mah so today not going out... Jus call lor...\\n',\n",
              " 'ham\\tWishing you and your family Merry \"X\" mas and HAPPY NEW Year in advance..\\n',\n",
              " 'spam\\tUR awarded a City Break and could WIN a £200 Summer Shopping spree every WK. Txt STORE to 88039 . SkilGme. TsCs087147403231Winawk!Age16 £1.50perWKsub\\n',\n",
              " \"ham\\tI'm nt goin, got somethin on, unless they meetin 4 dinner lor... Haha, i wonder who will go tis time...\\n\",\n",
              " \"ham\\tSorry, I'll call later\\n\",\n",
              " 'ham\\tI cant pick the phone right now. Pls send a message\\n',\n",
              " \"ham\\tLol I know! They're so dramatic. Schools already closed for tomorrow. Apparently we can't drive in the inch of snow were supposed to get.\\n\",\n",
              " 'ham\\tNot getting anywhere with this damn job hunting over here!\\n',\n",
              " 'ham\\tLol! U drunkard! Just doing my hair at d moment. Yeah still up 4 tonight. Wats the plan? \\n',\n",
              " 'ham\\tidc get over here, you are not weaseling your way out of this shit twice in a row\\n',\n",
              " 'ham\\tI wil be there with in  &lt;#&gt;  minutes. Got any space\\n',\n",
              " 'ham\\tJust sleeping..and surfing\\n',\n",
              " 'ham\\tThanks for picking up the trash.\\n',\n",
              " \"ham\\tWhy don't you go tell your friend you're not sure you want to live with him because he smokes too much then spend hours begging him to come smoke\\n\",\n",
              " 'ham\\t\"Hi its Kate it was lovely to see you tonight and ill phone you tomorrow. I got to sing and a guy gave me his card! xxx\"\\n',\n",
              " 'ham\\tHappy New year my dear brother. I really do miss you. Just got your number and decided to send you this text wishing you only happiness. Abiola\\n',\n",
              " 'ham\\tThat means get the door\\n',\n",
              " 'ham\\tYour opinion about me? 1. Over 2. Jada 3. Kusruthi 4. Lovable 5. Silent 6. Spl character 7. Not matured 8. Stylish 9. Simple Pls reply..\\n',\n",
              " 'ham\\tHmmm ... I thought we said 2 hours slave, not 3 ... You are late ... How should I punish you ?\\n',\n",
              " 'ham\\tBeerage?\\n',\n",
              " 'spam\\tYou have an important customer service announcement from PREMIER. Call FREEPHONE 0800 542 0578 now!\\n',\n",
              " 'ham\\tDont think so. It turns off like randomlly within 5min of opening\\n',\n",
              " \"ham\\tShe was supposed to be but couldn't make it, she's still in town though\\n\",\n",
              " 'ham\\tIt does it on its own. Most of the time it fixes my spelling. But sometimes it gets a completely diff word. Go figure\\n',\n",
              " 'spam\\tEver thought about living a good life with a perfect partner? Just txt back NAME and AGE to join the mobile community. (100p/SMS)\\n',\n",
              " 'spam\\t5 Free Top Polyphonic Tones call 087018728737, National Rate. Get a toppoly tune sent every week, just text SUBPOLY to 81618, £3 per pole. UnSub 08718727870.\\n',\n",
              " 'ham\\tGud mrng dear hav a nice day\\n',\n",
              " \"ham\\tThis is hoping you enjoyed your game yesterday. Sorry i've not been in touch but pls know that you are fondly bein thot off. Have a great week. Abiola\\n\",\n",
              " 'ham\\tAll e best 4 ur driving tmr :-)\\n',\n",
              " 'ham\\tY?WHERE U AT DOGBREATH? ITS JUST SOUNDING LIKE JAN C THAT\\x92S AL!!!!!!!!!\\n',\n",
              " 'ham\\tOmg I want to scream. I weighed myself and I lost more weight! Woohoo!\\n',\n",
              " \"ham\\tThere generally isn't one. It's an uncountable noun - u in the dictionary. pieces of research?\\n\",\n",
              " \"ham\\tit's really getting me down just hanging around.\\n\",\n",
              " \"spam\\tOrange customer, you may now claim your FREE CAMERA PHONE upgrade for your loyalty. Call now on 0207 153 9996. Offer ends 14thMarch. T&C's apply. Opt-out availa\\n\",\n",
              " 'ham\\t\"Petey boy whereare you me and all your friendsare in theKingshead come down if you canlove Nic\"\\n',\n",
              " 'ham\\tOk i msg u b4 i leave my house.\\n',\n",
              " 'ham\\t\"Gimme a few\" was  &lt;#&gt;  minutes ago\\n',\n",
              " 'spam\\tLast Chance! Claim ur £150 worth of discount vouchers today! Text SHOP to 85023 now! SavaMob, offers mobile! T Cs SavaMob POBOX84, M263UZ. £3.00 Sub. 16\\n',\n",
              " \"ham\\tAppt is at &lt;TIME&gt; am. Not my fault u don't listen. I told u twice\\n\",\n",
              " 'spam\\tFREE for 1st week! No1 Nokia tone 4 ur mobile every week just txt NOKIA to 8077 Get txting and tell ur mates. www.getzed.co.uk POBox 36504 W45WQ 16+ norm150p/tone\\n',\n",
              " 'spam\\tYou have won a guaranteed £200 award or even £1000 cashto claim UR award call free on 08000407165 (18+) 2 stop getstop on 88222 PHP. RG21 4JX\\n',\n",
              " \"ham\\tK I'll be there before 4.\\n\",\n",
              " 'ham\\tI dled 3d its very imp\\n',\n",
              " \"ham\\tsure, but make sure he knows we ain't smokin yet\\n\",\n",
              " 'ham\\tBoooo you always work. Just quit.\\n',\n",
              " 'ham\\tI am taking half day leave bec i am not well\\n',\n",
              " \"ham\\tUgh I don't wanna get out of bed. It's so warm.\\n\",\n",
              " 'ham\\tS:)s.nervous  &lt;#&gt; :)\\n',\n",
              " \"ham\\tSo there's a ring that comes with the guys costumes. It's there so they can gift their future yowifes. Hint hint\\n\",\n",
              " 'spam\\tCongratulations ur awarded either £500 of CD gift vouchers & Free entry 2 our £100 weekly draw txt MUSIC to 87066 TnCs www.Ldew.com1win150ppmx3age16\\n',\n",
              " 'ham\\tI borrow ur bag ok.\\n',\n",
              " 'spam\\tU were outbid by simonwatson5120 on the Shinco DVD Plyr. 2 bid again, visit sms. ac/smsrewards 2 end bid notifications, reply END OUT\\n',\n",
              " \"ham\\tWhere's my boytoy? I miss you ... What happened?\\n\",\n",
              " \"ham\\tHe has lots of used ones babe, but the model doesn't help. Youi have to bring it over and he'll match it up\\n\",\n",
              " 'ham\\tAlso are you bringing galileo or dobby\\n',\n",
              " 'ham\\tThen why you not responding\\n',\n",
              " 'ham\\t\"BOO BABE! U ENJOYIN YOURJOB? U SEEMED 2 B GETTIN ON WELL HUNNY!HOPE URE OK?TAKE CARE & I\\x92LLSPEAK 2U SOONLOTS OF LOVEME XXXX.\"\\n',\n",
              " \"ham\\tGood afternoon starshine! How's my boytoy? Does he crave me yet? Ache to fuck me ? *sips cappuccino* I miss you babe *teasing kiss*\\n\",\n",
              " 'ham\\tOn the road so cant txt\\n',\n",
              " 'spam\\tSMSSERVICES. for yourinclusive text credits, pls goto www.comuk.net login= 3qxj9 unsubscribe with STOP, no extra charge. help 08702840625.COMUK. 220-CM2 9AE\\n',\n",
              " \"spam\\t25p 4 alfie Moon's Children in need song on ur mob. Tell ur m8s. Txt Tone charity to 8007 for Nokias or Poly charity for polys: zed 08701417012 profit 2 charity.\\n\",\n",
              " 'ham\\tHave a good evening! Ttyl\\n',\n",
              " 'ham\\tHmm .. Bits and pieces lol ... *sighs* ...\\n',\n",
              " 'ham\\tHahaha..use your brain dear\\n',\n",
              " 'ham\\tHey. You got any mail?\\n',\n",
              " 'ham\\tSorry light turned green, I meant another friend wanted  &lt;#&gt;  worth but he may not be around\\n',\n",
              " 'ham\\tThanks for yesterday sir. You have been wonderful. Hope you enjoyed the burial. MojiBiola\\n',\n",
              " 'spam\\tU have a secret admirer. REVEAL who thinks U R So special. Call 09065174042. To opt out Reply REVEAL STOP. 1.50 per msg recd. Cust care 07821230901\\n',\n",
              " 'ham\\tHi mate its RV did u hav a nice hol just a message 3 say hello coz haven\\x92t sent u 1 in ages started driving so stay off roads!RVx\\n',\n",
              " 'spam\\tDear Voucher Holder, To claim this weeks offer, at you PC please go to http://www.e-tlp.co.uk/expressoffer Ts&Cs apply. To stop texts, txt STOP to 80062\\n',\n",
              " \"ham\\tThank you so much. When we skyped wit kz and sura, we didnt get the pleasure of your company. Hope you are good. We've given you ultimatum oh! We are countin down to aburo. Enjoy! This is the message i sent days ago\\n\",\n",
              " 'ham\\tSurely result will offer:)\\n',\n",
              " 'ham\\tGood Morning my Dear........... Have a great &amp; successful day.\\n',\n",
              " 'spam\\tDo you want 750 anytime any network mins 150 text and a NEW VIDEO phone for only five pounds per week call 08002888812 or reply for delivery tomorrow\\n',\n",
              " \"ham\\tSir, I have been late in paying rent for the past few months and had to pay a $ &lt;#&gt;  charge. I felt it would be inconsiderate of me to nag about something you give at great cost to yourself and that's why i didnt speak up. I however am in a recession and wont be able to pay the charge this month hence my askin well ahead of month's end. Can you please help. Thanks\\n\",\n",
              " 'spam\\tWe tried to contact you re our offer of New Video Phone 750 anytime any network mins HALF PRICE Rental camcorder call 08000930705 or reply for delivery Wed\\n',\n",
              " 'spam\\tLast chance 2 claim ur £150 worth of discount vouchers-Text YES to 85023 now!SavaMob-member offers mobile T Cs 08717898035. £3.00 Sub. 16 . Remove txt X or STOP\\n',\n",
              " 'ham\\tI luv u soo much u don\\x92t understand how special u r 2 me ring u 2morrow luv u xxx\\n',\n",
              " \"ham\\tPls send me a comprehensive mail about who i'm paying, when and how much.\\n\",\n",
              " \"ham\\tOur Prashanthettan's mother passed away last night. pray for her and family.\\n\",\n",
              " 'spam\\tUrgent! call 09066350750 from your landline. Your complimentary 4* Ibiza Holiday or 10,000 cash await collection SAE T&Cs PO BOX 434 SK3 8WP 150 ppm 18+ \\n',\n",
              " 'ham\\tK.k:)when are you going?\\n',\n",
              " \"ham\\tMeanwhile in the shit suite: xavier decided to give us  &lt;#&gt;  seconds of warning that samantha was coming over and is playing jay's guitar to impress her or some shit. Also I don't think doug realizes I don't live here anymore\\n\",\n",
              " \"ham\\tMy stomach has been thru so much trauma I swear I just can't eat. I better lose weight.\\n\",\n",
              " 'ham\\tI am in office:)whats the matter..msg me now.i will call you at break:).\\n',\n",
              " \"ham\\tYeah there's barely enough room for the two of us, x has too many fucking shoes. Sorry man, see you later\\n\",\n",
              " \"spam\\tToday's Offer! Claim ur £150 worth of discount vouchers! Text YES to 85023 now! SavaMob, member offers mobile! T Cs 08717898035. £3.00 Sub. 16 . Unsub reply X\\n\",\n",
              " 'ham\\tU reach orchard already? U wan 2 go buy tickets first?\\n',\n",
              " 'ham\\tI am real, baby! I want to bring out your inner tigress...\\n',\n",
              " 'ham\\tNo da if you run that it activate the full version da.\\n',\n",
              " 'ham\\t\"AH POOR BABY!HOPE URFEELING BETTERSN LUV! PROBTHAT OVERDOSE OF WORK HEY GO CAREFUL SPK 2 U SN LOTS OF LOVEJEN XXX.\"\\n',\n",
              " \"ham\\tStop the story. I've told him i've returned it and he's saying i should not re order it.\\n\",\n",
              " 'spam\\tTalk sexy!! Make new friends or fall in love in the worlds most discreet text dating service. Just text VIP to 83110 and see who you could meet.\\n',\n",
              " 'ham\\tGoing to take your babe out ?\\n',\n",
              " 'ham\\tHai ana tomarrow am coming on morning.  &lt;DECIMAL&gt;  ill be there in sathy then we ll go to RTO office. Reply me after came to home.\\n',\n",
              " 'ham\\tSpoons it is then okay?\\n',\n",
              " 'ham\\tDid he just say somebody is named tampa\\n',\n",
              " 'ham\\tIn work now. Going have in few min.\\n',\n",
              " 'ham\\tYour brother is a genius\\n',\n",
              " \"ham\\tSorry, I guess whenever I can get a hold of my connections, maybe an hour or two? I'll text you\\n\",\n",
              " 'ham\\tDid u find out what time the bus is at coz i need to sort some stuff out.\\n',\n",
              " 'ham\\tDude ive been seeing a lotta corvettes lately\\n',\n",
              " 'spam\\tCongratulations ur awarded either a yrs supply of CDs from Virgin Records or a Mystery Gift GUARANTEED Call 09061104283 Ts&Cs www.smsco.net £1.50pm approx 3mins\\n',\n",
              " \"ham\\tSame here, but I consider walls and bunkers and shit important just because I never play on peaceful but I guess your place is high enough that it don't matter\\n\",\n",
              " 'spam\\tPRIVATE! Your 2003 Account Statement for 07808 XXXXXX shows 800 un-redeemed S. I. M. points. Call 08719899217 Identifier Code: 41685 Expires 07/11/04\\n',\n",
              " 'spam\\tHello. We need some posh birds and chaps to user trial prods for champneys. Can i put you down? I need your address and dob asap. Ta r\\n',\n",
              " 'spam\\tWhat do U want for Xmas? How about 100 free text messages & a new video phone with half price line rental? Call free now on 0800 0721072 to find out more!\\n',\n",
              " 'ham\\tWell am officially in a philosophical hole, so if u wanna call am at home ready to be saved!\\n',\n",
              " 'ham\\tIts going good...no problem..but still need little experience to understand american customer voice...\\n',\n",
              " \"ham\\tI'll text you when I drop x off\\n\",\n",
              " \"ham\\tUgh its been a long day. I'm exhausted. Just want to cuddle up and take a nap\\n\",\n",
              " 'ham\\tTalk With Yourself Atleast Once In A Day...!!! Otherwise You Will Miss Your Best FRIEND In This WORLD...!!! -Shakespeare- SHESIL  &lt;#&gt;\\n',\n",
              " 'spam\\tShop till u Drop, IS IT YOU, either 10K, 5K, £500 Cash or £100 Travel voucher, Call now, 09064011000. NTT PO Box CR01327BT fixedline Cost 150ppm mobile vary\\n',\n",
              " 'ham\\tAre you in castor? You need to see something\\n',\n",
              " 'spam\\tSunshine Quiz Wkly Q! Win a top Sony DVD player if u know which country Liverpool played in mid week? Txt ansr to 82277. £1.50 SP:Tyrone\\n',\n",
              " 'spam\\tU have a secret admirer who is looking 2 make contact with U-find out who they R*reveal who thinks UR so special-call on 09058094565\\n',\n",
              " 'spam\\tU have a Secret Admirer who is looking 2 make contact with U-find out who they R*reveal who thinks UR so special-call on 09065171142-stopsms-08\\n',\n",
              " 'spam\\tReminder: You have not downloaded the content you have already paid for. Goto http://doit. mymoby. tv/ to collect your content.\\n',\n",
              " \"ham\\tsee, i knew giving you a break a few times woul lead to you always wanting to miss curfew. I was gonna gibe you 'til one, but a MIDNIGHT movie is not gonna get out til after 2. You need to come home. You need to getsleep and, if anything, you need to b studdying ear training.\\n\",\n",
              " 'ham\\tI love to give massages. I use lots of baby oil... What is your fave position?\\n',\n",
              " 'ham\\tDude we should go sup again\\n',\n",
              " 'ham\\tYoyyooo u know how to change permissions for a drive in mac. My usb flash drive\\n',\n",
              " 'ham\\tGibbs unsold.mike hussey\\n',\n",
              " 'ham\\tI like to talk pa but am not able to. I dont know y.\\n',\n",
              " \"ham\\tY dun cut too short leh. U dun like ah? She failed. She's quite sad.\\n\",\n",
              " 'ham\\tYou unbelievable faglord\\n',\n",
              " 'ham\\tWife.how she knew the time of murder exactly\\n',\n",
              " 'ham\\tWhy do you ask princess?\\n',\n",
              " 'ham\\tI am great princess! What are you thinking about me? :)\\n',\n",
              " 'ham\\tNutter. Cutter. Ctter. Cttergg. Cttargg. Ctargg. Ctagg. ie you\\n',\n",
              " \"ham\\tIt's ok i noe u're busy but i'm really too bored so i msg u. I oso dunno wat colour she choose 4 me one.\\n\",\n",
              " \"ham\\tDoesn't g have class early tomorrow and thus shouldn't be trying to smoke at  &lt;#&gt;\\n\",\n",
              " 'ham\\tSuperb Thought- \"Be grateful that u dont have everything u want. That means u still have an opportunity to be happier tomorrow than u are today.\":-)\\n',\n",
              " 'ham\\tHope you are having a good week. Just checking in\\n',\n",
              " \"ham\\tI'm used to it. I just hope my agents don't drop me since i've only booked a few things this year. This whole me in boston, them in nyc was an experiment.\\n\",\n",
              " \"ham\\tThursday night? Yeah, sure thing, we'll work it out then\\n\",\n",
              " 'spam\\tYour free ringtone is waiting to be collected. Simply text the password \"MIX\" to 85069 to verify. Get Usher and Britney. FML, PO Box 5249, MK17 92H. 450Ppw 16\\n',\n",
              " 'ham\\tProbably money worries. Things are coming due and i have several outstanding invoices for work i did two and three months ago.\\n',\n",
              " 'ham\\tHow is it possible to teach you. And where.\\n',\n",
              " 'ham\\tI wonder if your phone battery went dead ? I had to tell you, I love you babe\\n',\n",
              " \"ham\\tLovely smell on this bus and it ain't tobacco... \\n\",\n",
              " \"ham\\tWe're all getting worried over here, derek and taylor have already assumed the worst\\n\",\n",
              " \"ham\\tHey what's up charles sorry about the late reply.\\n\",\n",
              " 'spam\\tall the lastest from Stereophonics, Marley, Dizzee Racal, Libertines and The Strokes! Win Nookii games with Flirt!! Click TheMob WAP Bookmark or text WAP to 82468\\n',\n",
              " 'ham\\tI.ll give her once i have it. Plus she said grinule greet you whenever we speak\\n',\n",
              " 'ham\\tWHITE FUDGE OREOS ARE IN STORES\\n',\n",
              " 'spam\\tJanuary Male Sale! Hot Gay chat now cheaper, call 08709222922. National rate from 1.5p/min cheap to 7.8p/min peak! To stop texts call 08712460324 (10p/min)\\n',\n",
              " \"ham\\tMy love ! How come it took you so long to leave for Zaher's? I got your words on ym and was happy to see them but was sad you had left. I miss you\\n\",\n",
              " 'ham\\tI am sorry it hurt you.\\n',\n",
              " \"ham\\tCan't. I feel nauseous. I'm so pissed. I didn't eat any sweets all week cause today I was planning to pig out. I was dieting all week. And now I'm not hungry :/\\n\",\n",
              " 'ham\\tOk lor but not too early. Me still having project meeting now.\\n',\n",
              " 'ham\\tCall me da, i am waiting for your call.\\n',\n",
              " 'ham\\tI could ask carlos if we could get more if anybody else can chip in\\n',\n",
              " 'ham\\tWas actually about to send you a reminder today. Have a wonderful weekend\\n',\n",
              " \"ham\\tWhen people see my msgs, They think Iam addicted to msging... They are wrong, Bcoz They don\\\\'t know that Iam addicted to my sweet Friends..!! BSLVYL\\n\",\n",
              " 'ham\\tHey you gave them your photo when you registered for driving ah? Tmr wanna meet at yck? \\n',\n",
              " 'ham\\tDont talk to him ever ok its my word.\\n',\n",
              " 'ham\\tWhen u wana see it then\\n',\n",
              " \"ham\\tOn ma way to school. Can you pls send me ashley's number\\n\",\n",
              " 'ham\\tIt shall be fine. I have avalarr now. Will hollalater\\n',\n",
              " \"ham\\tShe went to attend another two rounds today..but still did't reach home..\\n\",\n",
              " 'ham\\tActually i deleted my old website..now i m blogging at magicalsongs.blogspot.com\\n',\n",
              " 'ham\\tK, wait chikku..il send aftr  &lt;#&gt; mins\\n',\n",
              " \"ham\\tBut I'm on a diet. And I ate 1 too many slices of pizza yesterday. Ugh I'm ALWAYS on a diet.\\n\",\n",
              " 'ham\\tK:)i will give my kvb acc details:)\\n',\n",
              " 'ham\\tOh all have to come ah?\\n',\n",
              " 'spam\\tmoney!!! you r a lucky winner ! 2 claim your prize text money 2 88600 over £1million to give away ! ppt150x3+normal text rate box403 w1t1jy\\n',\n",
              " \"ham\\tI'm really sorry i won't b able 2 do this friday.hope u can find an alternative.hope yr term's going ok:-)\\n\",\n",
              " 'ham\\tCongratulations ore mo owo re wa. Enjoy it and i wish you many happy moments to and fro wherever you go\\n',\n",
              " 'ham\\tSo do you have samus shoulders yet\\n',\n",
              " \"ham\\tWhat time you think you'll have it? Need to know when I should be near campus\\n\",\n",
              " 'spam\\tDear Matthew please call 09063440451 from a landline, your complimentary 4*Lux Tenerife holiday or £1000 CASH await collection. ppm150 SAE T&Cs Box334 SK38XH.\\n',\n",
              " 'ham\\tThen dun wear jeans lor...\\n',\n",
              " 'ham\\tSince when, which side, any fever, any vomitin.\\n',\n",
              " 'ham\\tK:)k.are you in college?\\n',\n",
              " 'spam\\tUrgent! call 09061749602 from Landline. Your complimentary 4* Tenerife Holiday or £10,000 cash await collection SAE T&Cs BOX 528 HP20 1YF 150ppm 18+\\n',\n",
              " 'ham\\tBetter. Made up for Friday and stuffed myself like a pig yesterday. Now I feel bleh. But at least its not writhing pain kind of bleh.\\n',\n",
              " \"ham\\tNo we sell it all so we'll have tons if coins. Then sell our coins to someone thru paypal. Voila! Money back in life pockets:)\\n\",\n",
              " 'ham\\tTheyre doing it to lots of places. Only hospitals and medical places are safe.\\n',\n",
              " 'spam\\tHow about getting in touch with folks waiting for company? Just txt back your NAME and AGE to opt in! Enjoy the community (150p/SMS)\\n',\n",
              " \"ham\\tAnd also I've sorta blown him off a couple times recently so id rather not text him out of the blue looking for weed\\n\",\n",
              " 'ham\\tI sent my scores to sophas and i had to do secondary application for a few schools. I think if you are thinking of applying, do a research on cost also. Contact joke ogunrinde, her school is one me the less expensive ones\\n',\n",
              " 'ham\\tI cant wait to see you! How were the photos were useful? :)\\n',\n",
              " 'spam\\tUr cash-balance is currently 500 pounds - to maximize ur cash-in now send GO to 86688 only 150p/msg. CC: 08718720201 PO BOX 114/14 TCR/W1\\n',\n",
              " 'ham\\tHey i booked the kb on sat already... what other lessons are we going for ah? Keep your sat night free we need to meet and confirm our lodging \\n',\n",
              " 'ham\\tChk in ur belovd ms dict\\n',\n",
              " 'ham\\tIs that what time you want me to come?\\n',\n",
              " \"ham\\tAwesome, lemme know whenever you're around\\n\",\n",
              " 'ham\\tShb b ok lor... Thanx...\\n',\n",
              " 'ham\\tBeautiful Truth against Gravity.. Read carefully: \"Our heart feels light when someone is in it.. But it feels very heavy when someone leaves it..\" GOOD NIGHT\\n',\n",
              " \"ham\\tAlso remember to get dobby's bowl from your car\\n\",\n",
              " 'spam\\tFilthy stories and GIRLS waiting for your\\n',\n",
              " \"ham\\tSorry i now then c ur msg... Yar lor so poor thing... But only 4 one night... Tmr u'll have a brand new room 2 sleep in...\\n\",\n",
              " \"ham\\tLove isn't a decision, it's a feeling. If we could decide who to love, then, life would be much simpler, but then less magical\\n\",\n",
              " 'ham\\tWelp apparently he retired\\n',\n",
              " \"ham\\tMy sort code is  and acc no is . The bank is natwest. Can you reply to confirm i've sent this to the right person!\\n\",\n",
              " 'ham\\tWhere @\\n',\n",
              " \"ham\\tU sure u can't take any sick time?\\n\",\n",
              " 'spam\\tURGENT! We are trying to contact U. Todays draw shows that you have won a £800 prize GUARANTEED. Call 09050001808 from land line. Claim M95. Valid12hrs only\\n',\n",
              " 'ham\\tWatching cartoon, listening music &amp; at eve had to go temple &amp; church.. What about u?\\n',\n",
              " 'ham\\tYo chad which gymnastics class do you wanna take? The site says Christians class is full..\\n',\n",
              " 'ham\\tAre you this much buzy\\n',\n",
              " 'ham\\tOr better still can you catch her and let ask her if she can sell  &lt;#&gt;  for me.\\n',\n",
              " 'ham\\tI am not sure about night menu. . . I know only about noon menu\\n',\n",
              " 'ham\\tWhat do u want when i come back?.a beautiful necklace as a token of my heart for you.thats what i will give but ONLY to MY WIFE OF MY LIKING.BE THAT AND SEE..NO ONE can give you that.dont call me.i will wait till i come.\\n',\n",
              " 'ham\\tAre you willing to go for aptitude class.\\n',\n",
              " 'ham\\tIt wont b until 2.15 as trying 2 sort house out, is that ok?\\n',\n",
              " 'ham\\tYar lor he wan 2 go c horse racing today mah, so eat earlier lor. I ate chicken rice. U?\\n',\n",
              " 'ham\\tHaha awesome, omw back now then\\n',\n",
              " 'ham\\tYup i thk so until e shop closes lor.\\n',\n",
              " 'ham\\twhat is your account number?\\n',\n",
              " 'ham\\tEh u send wrongly lar...\\n',\n",
              " 'ham\\tHey no I ad a crap nite was borin without ya 2 boggy with me u boring biatch! Thanx but u wait til nxt time il ave ya \\n',\n",
              " 'ham\\tOk i shall talk to him\\n',\n",
              " 'ham\\tDont hesitate. You know this is the second time she has had weakness like that. So keep i notebook of what she eat and did the day before or if anything changed the day before so that we can be sure its nothing\\n',\n",
              " 'ham\\tHey you can pay. With salary de. Only  &lt;#&gt; .\\n',\n",
              " 'ham\\tAnother month. I need chocolate weed and alcohol.\\n',\n",
              " 'ham\\tIf he started searching he will get job in few days.he have great potential and talent.\\n',\n",
              " 'ham\\tReckon need to be in town by eightish to walk from * carpark.\\n',\n",
              " 'spam\\tCongrats! 2 mobile 3G Videophones R yours. call 09063458130 now! videochat wid your mates, play java games, Dload polyPH music, noline rentl.\\n',\n",
              " 'ham\\tLOOK AT THE FUCKIN TIME. WHAT THE FUCK YOU THINK IS UP\\n',\n",
              " 'ham\\tYo guess what I just dropped\\n',\n",
              " \"ham\\tCarlos says he'll be at mu in  &lt;#&gt;  minutes\\n\",\n",
              " \"ham\\tI'm in office now . I will call you  &lt;#&gt;  min:)\\n\",\n",
              " \"ham\\tGeeee ... I miss you already, you know ? Your all I can think about. Fuck, I can't wait till next year when we will be together ... *loving kiss*\\n\",\n",
              " 'ham\\tYun ah.the ubi one say if ü wan call by tomorrow.call 67441233 look for irene.ere only got bus8,22,65,61,66,382. Ubi cres,ubi tech park.6ph for 1st 5wkg days.èn\\n',\n",
              " 'ham\\tUgh. Gotta drive back to sd from la. My butt is sore.\\n',\n",
              " 'ham\\t26th OF JULY\\n',\n",
              " 'ham\\tHi im having the most relaxing time ever! we have to get up at 7am every day! was the party good the other night? I get home tomorrow at 5ish.\\n',\n",
              " 'ham\\tUp to ü... Ü wan come then come lor... But i din c any stripes skirt...\\n',\n",
              " 'ham\\tThe Xmas story is peace.. The Xmas msg is love.. The Xmas miracle is jesus.. Hav a blessed month ahead &amp; wish U Merry Xmas...\\n',\n",
              " \"ham\\tI can't, I don't have her number!\\n\",\n",
              " \"ham\\tChange again... It's e one next to escalator...\\n\",\n",
              " \"ham\\tYetunde i'm in class can you not run water on it to make it ok. Pls now.\\n\",\n",
              " 'ham\\tNot a lot has happened here. Feels very quiet. Beth is at her aunts and charlie is working lots. Just me and helen in at the mo. How have you been? \\n',\n",
              " 'ham\\tThen ü wait 4 me at bus stop aft ur lect lar. If i dun c ü then i go get my car then come back n pick ü.\\n',\n",
              " ...]"
            ]
          },
          "metadata": {
            "tags": []
          },
          "execution_count": 3
        }
      ]
    },
    {
      "cell_type": "markdown",
      "metadata": {
        "id": "Lrb3prgRmnqC",
        "colab_type": "text"
      },
      "source": [
        "Lets Check How Many Messages we have in \"SMS\""
      ]
    },
    {
      "cell_type": "code",
      "metadata": {
        "id": "QhHMJu8smrNa",
        "colab_type": "code",
        "outputId": "170d5491-d7dd-46ed-8b52-daba114868cb",
        "colab": {
          "base_uri": "https://localhost:8080/",
          "height": 35
        }
      },
      "source": [
        "len(sms),type(sms)"
      ],
      "execution_count": 0,
      "outputs": [
        {
          "output_type": "execute_result",
          "data": {
            "text/plain": [
              "(5574, list)"
            ]
          },
          "metadata": {
            "tags": []
          },
          "execution_count": 4
        }
      ]
    },
    {
      "cell_type": "code",
      "metadata": {
        "id": "kWYtpcqWm2Xa",
        "colab_type": "code",
        "outputId": "c7c8edd1-e7b0-4941-8d81-bb14a44dbd93",
        "colab": {
          "base_uri": "https://localhost:8080/",
          "height": 35
        }
      },
      "source": [
        "sms[1]"
      ],
      "execution_count": 0,
      "outputs": [
        {
          "output_type": "execute_result",
          "data": {
            "text/plain": [
              "'ham\\tOk lar... Joking wif u oni...\\n'"
            ]
          },
          "metadata": {
            "tags": []
          },
          "execution_count": 5
        }
      ]
    },
    {
      "cell_type": "code",
      "metadata": {
        "id": "JS7EQR6WnDcW",
        "colab_type": "code",
        "colab": {}
      },
      "source": [
        "# First Column will be label/target 'ham\\spam'\n",
        "# 2nd Columns will Deliver u exact message"
      ],
      "execution_count": 0,
      "outputs": []
    },
    {
      "cell_type": "code",
      "metadata": {
        "id": "2slYJCzOnO8E",
        "colab_type": "code",
        "colab": {}
      },
      "source": [
        "import pandas as pd"
      ],
      "execution_count": 0,
      "outputs": []
    },
    {
      "cell_type": "code",
      "metadata": {
        "id": "iIMRLLU3nR9A",
        "colab_type": "code",
        "outputId": "cd1fd1c5-74c3-4e10-c119-b59c11042416",
        "colab": {
          "base_uri": "https://localhost:8080/",
          "height": 407
        }
      },
      "source": [
        "smstest = pd.read_csv('SMSSpamCollection',sep='\\t',\n",
        "                      names=['target','sms'])\n",
        "smstest"
      ],
      "execution_count": 0,
      "outputs": [
        {
          "output_type": "execute_result",
          "data": {
            "text/html": [
              "<div>\n",
              "<style scoped>\n",
              "    .dataframe tbody tr th:only-of-type {\n",
              "        vertical-align: middle;\n",
              "    }\n",
              "\n",
              "    .dataframe tbody tr th {\n",
              "        vertical-align: top;\n",
              "    }\n",
              "\n",
              "    .dataframe thead th {\n",
              "        text-align: right;\n",
              "    }\n",
              "</style>\n",
              "<table border=\"1\" class=\"dataframe\">\n",
              "  <thead>\n",
              "    <tr style=\"text-align: right;\">\n",
              "      <th></th>\n",
              "      <th>target</th>\n",
              "      <th>sms</th>\n",
              "    </tr>\n",
              "  </thead>\n",
              "  <tbody>\n",
              "    <tr>\n",
              "      <th>0</th>\n",
              "      <td>ham</td>\n",
              "      <td>Go until jurong point, crazy.. Available only ...</td>\n",
              "    </tr>\n",
              "    <tr>\n",
              "      <th>1</th>\n",
              "      <td>ham</td>\n",
              "      <td>Ok lar... Joking wif u oni...</td>\n",
              "    </tr>\n",
              "    <tr>\n",
              "      <th>2</th>\n",
              "      <td>spam</td>\n",
              "      <td>Free entry in 2 a wkly comp to win FA Cup fina...</td>\n",
              "    </tr>\n",
              "    <tr>\n",
              "      <th>3</th>\n",
              "      <td>ham</td>\n",
              "      <td>U dun say so early hor... U c already then say...</td>\n",
              "    </tr>\n",
              "    <tr>\n",
              "      <th>4</th>\n",
              "      <td>ham</td>\n",
              "      <td>Nah I don't think he goes to usf, he lives aro...</td>\n",
              "    </tr>\n",
              "    <tr>\n",
              "      <th>...</th>\n",
              "      <td>...</td>\n",
              "      <td>...</td>\n",
              "    </tr>\n",
              "    <tr>\n",
              "      <th>5567</th>\n",
              "      <td>spam</td>\n",
              "      <td>This is the 2nd time we have tried 2 contact u...</td>\n",
              "    </tr>\n",
              "    <tr>\n",
              "      <th>5568</th>\n",
              "      <td>ham</td>\n",
              "      <td>Will ü b going to esplanade fr home?</td>\n",
              "    </tr>\n",
              "    <tr>\n",
              "      <th>5569</th>\n",
              "      <td>ham</td>\n",
              "      <td>Pity, * was in mood for that. So...any other s...</td>\n",
              "    </tr>\n",
              "    <tr>\n",
              "      <th>5570</th>\n",
              "      <td>ham</td>\n",
              "      <td>The guy did some bitching but I acted like i'd...</td>\n",
              "    </tr>\n",
              "    <tr>\n",
              "      <th>5571</th>\n",
              "      <td>ham</td>\n",
              "      <td>Rofl. Its true to its name</td>\n",
              "    </tr>\n",
              "  </tbody>\n",
              "</table>\n",
              "<p>5572 rows × 2 columns</p>\n",
              "</div>"
            ],
            "text/plain": [
              "     target                                                sms\n",
              "0       ham  Go until jurong point, crazy.. Available only ...\n",
              "1       ham                      Ok lar... Joking wif u oni...\n",
              "2      spam  Free entry in 2 a wkly comp to win FA Cup fina...\n",
              "3       ham  U dun say so early hor... U c already then say...\n",
              "4       ham  Nah I don't think he goes to usf, he lives aro...\n",
              "...     ...                                                ...\n",
              "5567   spam  This is the 2nd time we have tried 2 contact u...\n",
              "5568    ham               Will ü b going to esplanade fr home?\n",
              "5569    ham  Pity, * was in mood for that. So...any other s...\n",
              "5570    ham  The guy did some bitching but I acted like i'd...\n",
              "5571    ham                         Rofl. Its true to its name\n",
              "\n",
              "[5572 rows x 2 columns]"
            ]
          },
          "metadata": {
            "tags": []
          },
          "execution_count": 7
        }
      ]
    },
    {
      "cell_type": "code",
      "metadata": {
        "id": "Nymnmodvnq75",
        "colab_type": "code",
        "outputId": "856ac342-1b28-4e7d-88e4-5c0251e16c39",
        "colab": {
          "base_uri": "https://localhost:8080/",
          "height": 181
        }
      },
      "source": [
        "smstest.info()"
      ],
      "execution_count": 0,
      "outputs": [
        {
          "output_type": "stream",
          "text": [
            "<class 'pandas.core.frame.DataFrame'>\n",
            "RangeIndex: 5572 entries, 0 to 5571\n",
            "Data columns (total 2 columns):\n",
            " #   Column  Non-Null Count  Dtype \n",
            "---  ------  --------------  ----- \n",
            " 0   target  5572 non-null   object\n",
            " 1   sms     5572 non-null   object\n",
            "dtypes: object(2)\n",
            "memory usage: 87.2+ KB\n"
          ],
          "name": "stdout"
        }
      ]
    },
    {
      "cell_type": "code",
      "metadata": {
        "id": "5n6QnCHPn0-M",
        "colab_type": "code",
        "outputId": "7a269c65-8d41-49b3-db4a-365dab8bb11f",
        "colab": {
          "base_uri": "https://localhost:8080/",
          "height": 168
        }
      },
      "source": [
        "smstest.describe()"
      ],
      "execution_count": 0,
      "outputs": [
        {
          "output_type": "execute_result",
          "data": {
            "text/html": [
              "<div>\n",
              "<style scoped>\n",
              "    .dataframe tbody tr th:only-of-type {\n",
              "        vertical-align: middle;\n",
              "    }\n",
              "\n",
              "    .dataframe tbody tr th {\n",
              "        vertical-align: top;\n",
              "    }\n",
              "\n",
              "    .dataframe thead th {\n",
              "        text-align: right;\n",
              "    }\n",
              "</style>\n",
              "<table border=\"1\" class=\"dataframe\">\n",
              "  <thead>\n",
              "    <tr style=\"text-align: right;\">\n",
              "      <th></th>\n",
              "      <th>target</th>\n",
              "      <th>sms</th>\n",
              "    </tr>\n",
              "  </thead>\n",
              "  <tbody>\n",
              "    <tr>\n",
              "      <th>count</th>\n",
              "      <td>5572</td>\n",
              "      <td>5572</td>\n",
              "    </tr>\n",
              "    <tr>\n",
              "      <th>unique</th>\n",
              "      <td>2</td>\n",
              "      <td>5169</td>\n",
              "    </tr>\n",
              "    <tr>\n",
              "      <th>top</th>\n",
              "      <td>ham</td>\n",
              "      <td>Sorry, I'll call later</td>\n",
              "    </tr>\n",
              "    <tr>\n",
              "      <th>freq</th>\n",
              "      <td>4825</td>\n",
              "      <td>30</td>\n",
              "    </tr>\n",
              "  </tbody>\n",
              "</table>\n",
              "</div>"
            ],
            "text/plain": [
              "       target                     sms\n",
              "count    5572                    5572\n",
              "unique      2                    5169\n",
              "top       ham  Sorry, I'll call later\n",
              "freq     4825                      30"
            ]
          },
          "metadata": {
            "tags": []
          },
          "execution_count": 9
        }
      ]
    },
    {
      "cell_type": "code",
      "metadata": {
        "id": "-BTNUTj8oJ8j",
        "colab_type": "code",
        "outputId": "66b24716-5dad-419a-a94f-d203e104157b",
        "colab": {
          "base_uri": "https://localhost:8080/",
          "height": 168
        }
      },
      "source": [
        "smstest.groupby('target').describe()"
      ],
      "execution_count": 0,
      "outputs": [
        {
          "output_type": "execute_result",
          "data": {
            "text/html": [
              "<div>\n",
              "<style scoped>\n",
              "    .dataframe tbody tr th:only-of-type {\n",
              "        vertical-align: middle;\n",
              "    }\n",
              "\n",
              "    .dataframe tbody tr th {\n",
              "        vertical-align: top;\n",
              "    }\n",
              "\n",
              "    .dataframe thead tr th {\n",
              "        text-align: left;\n",
              "    }\n",
              "\n",
              "    .dataframe thead tr:last-of-type th {\n",
              "        text-align: right;\n",
              "    }\n",
              "</style>\n",
              "<table border=\"1\" class=\"dataframe\">\n",
              "  <thead>\n",
              "    <tr>\n",
              "      <th></th>\n",
              "      <th colspan=\"4\" halign=\"left\">sms</th>\n",
              "    </tr>\n",
              "    <tr>\n",
              "      <th></th>\n",
              "      <th>count</th>\n",
              "      <th>unique</th>\n",
              "      <th>top</th>\n",
              "      <th>freq</th>\n",
              "    </tr>\n",
              "    <tr>\n",
              "      <th>target</th>\n",
              "      <th></th>\n",
              "      <th></th>\n",
              "      <th></th>\n",
              "      <th></th>\n",
              "    </tr>\n",
              "  </thead>\n",
              "  <tbody>\n",
              "    <tr>\n",
              "      <th>ham</th>\n",
              "      <td>4825</td>\n",
              "      <td>4516</td>\n",
              "      <td>Sorry, I'll call later</td>\n",
              "      <td>30</td>\n",
              "    </tr>\n",
              "    <tr>\n",
              "      <th>spam</th>\n",
              "      <td>747</td>\n",
              "      <td>653</td>\n",
              "      <td>Please call our customer service representativ...</td>\n",
              "      <td>4</td>\n",
              "    </tr>\n",
              "  </tbody>\n",
              "</table>\n",
              "</div>"
            ],
            "text/plain": [
              "         sms                                                               \n",
              "       count unique                                                top freq\n",
              "target                                                                     \n",
              "ham     4825   4516                             Sorry, I'll call later   30\n",
              "spam     747    653  Please call our customer service representativ...    4"
            ]
          },
          "metadata": {
            "tags": []
          },
          "execution_count": 10
        }
      ]
    },
    {
      "cell_type": "code",
      "metadata": {
        "id": "RaqwLHiWov68",
        "colab_type": "code",
        "outputId": "a23ef2de-5250-40f0-b2f5-af90397feeea",
        "colab": {
          "base_uri": "https://localhost:8080/",
          "height": 407
        }
      },
      "source": [
        "smstest['length']=smstest['sms'].apply(len)\n",
        "smstest"
      ],
      "execution_count": 0,
      "outputs": [
        {
          "output_type": "execute_result",
          "data": {
            "text/html": [
              "<div>\n",
              "<style scoped>\n",
              "    .dataframe tbody tr th:only-of-type {\n",
              "        vertical-align: middle;\n",
              "    }\n",
              "\n",
              "    .dataframe tbody tr th {\n",
              "        vertical-align: top;\n",
              "    }\n",
              "\n",
              "    .dataframe thead th {\n",
              "        text-align: right;\n",
              "    }\n",
              "</style>\n",
              "<table border=\"1\" class=\"dataframe\">\n",
              "  <thead>\n",
              "    <tr style=\"text-align: right;\">\n",
              "      <th></th>\n",
              "      <th>target</th>\n",
              "      <th>sms</th>\n",
              "      <th>length</th>\n",
              "    </tr>\n",
              "  </thead>\n",
              "  <tbody>\n",
              "    <tr>\n",
              "      <th>0</th>\n",
              "      <td>ham</td>\n",
              "      <td>Go until jurong point, crazy.. Available only ...</td>\n",
              "      <td>111</td>\n",
              "    </tr>\n",
              "    <tr>\n",
              "      <th>1</th>\n",
              "      <td>ham</td>\n",
              "      <td>Ok lar... Joking wif u oni...</td>\n",
              "      <td>29</td>\n",
              "    </tr>\n",
              "    <tr>\n",
              "      <th>2</th>\n",
              "      <td>spam</td>\n",
              "      <td>Free entry in 2 a wkly comp to win FA Cup fina...</td>\n",
              "      <td>155</td>\n",
              "    </tr>\n",
              "    <tr>\n",
              "      <th>3</th>\n",
              "      <td>ham</td>\n",
              "      <td>U dun say so early hor... U c already then say...</td>\n",
              "      <td>49</td>\n",
              "    </tr>\n",
              "    <tr>\n",
              "      <th>4</th>\n",
              "      <td>ham</td>\n",
              "      <td>Nah I don't think he goes to usf, he lives aro...</td>\n",
              "      <td>61</td>\n",
              "    </tr>\n",
              "    <tr>\n",
              "      <th>...</th>\n",
              "      <td>...</td>\n",
              "      <td>...</td>\n",
              "      <td>...</td>\n",
              "    </tr>\n",
              "    <tr>\n",
              "      <th>5567</th>\n",
              "      <td>spam</td>\n",
              "      <td>This is the 2nd time we have tried 2 contact u...</td>\n",
              "      <td>160</td>\n",
              "    </tr>\n",
              "    <tr>\n",
              "      <th>5568</th>\n",
              "      <td>ham</td>\n",
              "      <td>Will ü b going to esplanade fr home?</td>\n",
              "      <td>36</td>\n",
              "    </tr>\n",
              "    <tr>\n",
              "      <th>5569</th>\n",
              "      <td>ham</td>\n",
              "      <td>Pity, * was in mood for that. So...any other s...</td>\n",
              "      <td>57</td>\n",
              "    </tr>\n",
              "    <tr>\n",
              "      <th>5570</th>\n",
              "      <td>ham</td>\n",
              "      <td>The guy did some bitching but I acted like i'd...</td>\n",
              "      <td>125</td>\n",
              "    </tr>\n",
              "    <tr>\n",
              "      <th>5571</th>\n",
              "      <td>ham</td>\n",
              "      <td>Rofl. Its true to its name</td>\n",
              "      <td>26</td>\n",
              "    </tr>\n",
              "  </tbody>\n",
              "</table>\n",
              "<p>5572 rows × 3 columns</p>\n",
              "</div>"
            ],
            "text/plain": [
              "     target                                                sms  length\n",
              "0       ham  Go until jurong point, crazy.. Available only ...     111\n",
              "1       ham                      Ok lar... Joking wif u oni...      29\n",
              "2      spam  Free entry in 2 a wkly comp to win FA Cup fina...     155\n",
              "3       ham  U dun say so early hor... U c already then say...      49\n",
              "4       ham  Nah I don't think he goes to usf, he lives aro...      61\n",
              "...     ...                                                ...     ...\n",
              "5567   spam  This is the 2nd time we have tried 2 contact u...     160\n",
              "5568    ham               Will ü b going to esplanade fr home?      36\n",
              "5569    ham  Pity, * was in mood for that. So...any other s...      57\n",
              "5570    ham  The guy did some bitching but I acted like i'd...     125\n",
              "5571    ham                         Rofl. Its true to its name      26\n",
              "\n",
              "[5572 rows x 3 columns]"
            ]
          },
          "metadata": {
            "tags": []
          },
          "execution_count": 11
        }
      ]
    },
    {
      "cell_type": "code",
      "metadata": {
        "id": "QoRUD1YfpLLz",
        "colab_type": "code",
        "outputId": "ec97c910-26b1-4240-9a01-cb81fe252cc3",
        "colab": {
          "base_uri": "https://localhost:8080/",
          "height": 74
        }
      },
      "source": [
        "import seaborn as sns"
      ],
      "execution_count": 0,
      "outputs": [
        {
          "output_type": "stream",
          "text": [
            "/usr/local/lib/python3.6/dist-packages/statsmodels/tools/_testing.py:19: FutureWarning: pandas.util.testing is deprecated. Use the functions in the public API at pandas.testing instead.\n",
            "  import pandas.util.testing as tm\n"
          ],
          "name": "stderr"
        }
      ]
    },
    {
      "cell_type": "code",
      "metadata": {
        "id": "Fla-QWbrpOOf",
        "colab_type": "code",
        "outputId": "8d867c6e-e342-43b9-9dae-6eea10c66c7d",
        "colab": {
          "base_uri": "https://localhost:8080/",
          "height": 297
        }
      },
      "source": [
        "sns.distplot(smstest['length'])"
      ],
      "execution_count": 0,
      "outputs": [
        {
          "output_type": "execute_result",
          "data": {
            "text/plain": [
              "<matplotlib.axes._subplots.AxesSubplot at 0x7fa64dbf7c18>"
            ]
          },
          "metadata": {
            "tags": []
          },
          "execution_count": 13
        },
        {
          "output_type": "display_data",
          "data": {
            "image/png": "[encoded data removed]",
            "text/plain": [
              "<Figure size 432x288 with 1 Axes>"
            ]
          },
          "metadata": {
            "tags": [],
            "needs_background": "light"
          }
        }
      ]
    },
    {
      "cell_type": "code",
      "metadata": {
        "id": "SSJ9tFKxpbzG",
        "colab_type": "code",
        "colab": {}
      },
      "source": [
        "import matplotlib.pyplot as plt\n"
      ],
      "execution_count": 0,
      "outputs": []
    },
    {
      "cell_type": "code",
      "metadata": {
        "id": "hkIWeV0IpfLv",
        "colab_type": "code",
        "outputId": "399f796f-9d4a-4ed3-fe02-c1f42c1f90ca",
        "colab": {
          "base_uri": "https://localhost:8080/",
          "height": 452
        }
      },
      "source": [
        "smstest.hist(column='length',by='target',bins=35,figsize=(11,6))"
      ],
      "execution_count": 0,
      "outputs": [
        {
          "output_type": "execute_result",
          "data": {
            "text/plain": [
              "array([<matplotlib.axes._subplots.AxesSubplot object at 0x7fa64dc30a90>,\n",
              "       <matplotlib.axes._subplots.AxesSubplot object at 0x7fa64d5e45f8>],\n",
              "      dtype=object)"
            ]
          },
          "metadata": {
            "tags": []
          },
          "execution_count": 15
        },
        {
          "output_type": "display_data",
          "data": {
            "image/png": "[encoded data removed]",
            "text/plain": [
              "<Figure size 792x432 with 2 Axes>"
            ]
          },
          "metadata": {
            "tags": [],
            "needs_background": "light"
          }
        }
      ]
    },
    {
      "cell_type": "code",
      "metadata": {
        "id": "ZFzidLRMqDUw",
        "colab_type": "code",
        "colab": {}
      },
      "source": [
        "# Text Pre Processing ( Try to Reomve Punctuation)"
      ],
      "execution_count": 0,
      "outputs": []
    },
    {
      "cell_type": "code",
      "metadata": {
        "id": "5-QfIpQ4qJ-h",
        "colab_type": "code",
        "colab": {}
      },
      "source": [
        "import string"
      ],
      "execution_count": 0,
      "outputs": []
    },
    {
      "cell_type": "code",
      "metadata": {
        "id": "S9f8bgCdqTHW",
        "colab_type": "code",
        "colab": {}
      },
      "source": [
        "test = \"hello this is Tuesday! , How are you ?\""
      ],
      "execution_count": 0,
      "outputs": []
    },
    {
      "cell_type": "code",
      "metadata": {
        "id": "ovG9s0KeqZxW",
        "colab_type": "code",
        "outputId": "5a0436c6-c73b-48ba-e255-37ef10e1dd17",
        "colab": {
          "base_uri": "https://localhost:8080/",
          "height": 35
        }
      },
      "source": [
        "string.punctuation"
      ],
      "execution_count": 0,
      "outputs": [
        {
          "output_type": "execute_result",
          "data": {
            "text/plain": [
              "'!\"#$%&\\'()*+,-./:;<=>?@[\\\\]^_`{|}~'"
            ]
          },
          "metadata": {
            "tags": []
          },
          "execution_count": 18
        }
      ]
    },
    {
      "cell_type": "code",
      "metadata": {
        "id": "vIt_KA3Hqn6l",
        "colab_type": "code",
        "outputId": "e7a60ed2-d69a-41cf-9ae2-0aafec7d68bb",
        "colab": {
          "base_uri": "https://localhost:8080/",
          "height": 454
        }
      },
      "source": [
        "nonpunc = [char for char in test if char not in string.punctuation]\n",
        "nonpunc[0:24]"
      ],
      "execution_count": 0,
      "outputs": [
        {
          "output_type": "execute_result",
          "data": {
            "text/plain": [
              "['h',\n",
              " 'e',\n",
              " 'l',\n",
              " 'l',\n",
              " 'o',\n",
              " ' ',\n",
              " 't',\n",
              " 'h',\n",
              " 'i',\n",
              " 's',\n",
              " ' ',\n",
              " 'i',\n",
              " 's',\n",
              " ' ',\n",
              " 'T',\n",
              " 'u',\n",
              " 'e',\n",
              " 's',\n",
              " 'd',\n",
              " 'a',\n",
              " 'y',\n",
              " ' ',\n",
              " ' ',\n",
              " 'H']"
            ]
          },
          "metadata": {
            "tags": []
          },
          "execution_count": 27
        }
      ]
    },
    {
      "cell_type": "code",
      "metadata": {
        "id": "vStFFULDroqV",
        "colab_type": "code",
        "colab": {}
      },
      "source": [
        "# You Can Join End of All Work"
      ],
      "execution_count": 0,
      "outputs": []
    },
    {
      "cell_type": "code",
      "metadata": {
        "id": "D44duKjurrWN",
        "colab_type": "code",
        "outputId": "d30eb191-121d-4f68-fb32-9f5f69eb2409",
        "colab": {
          "base_uri": "https://localhost:8080/",
          "height": 35
        }
      },
      "source": [
        "nonpunc = ''.join(nonpunc)\n",
        "nonpunc"
      ],
      "execution_count": 0,
      "outputs": [
        {
          "output_type": "execute_result",
          "data": {
            "text/plain": [
              "'hello this is Tuesday  How are you '"
            ]
          },
          "metadata": {
            "tags": []
          },
          "execution_count": 28
        }
      ]
    },
    {
      "cell_type": "code",
      "metadata": {
        "id": "pkVTTaVFr9T1",
        "colab_type": "code",
        "colab": {}
      },
      "source": [
        "# Removing Stop Word"
      ],
      "execution_count": 0,
      "outputs": []
    },
    {
      "cell_type": "code",
      "metadata": {
        "id": "FjyAijsZr_Xq",
        "colab_type": "code",
        "colab": {}
      },
      "source": [
        "from nltk.corpus import stopwords"
      ],
      "execution_count": 0,
      "outputs": []
    },
    {
      "cell_type": "code",
      "metadata": {
        "id": "VC9cAbF5sLU7",
        "colab_type": "code",
        "outputId": "0e67ad56-5847-4542-d3a7-51aa14f7b3d3",
        "colab": {
          "base_uri": "https://localhost:8080/",
          "height": 1000
        }
      },
      "source": [
        "stopwords.words('english')[0:5]"
      ],
      "execution_count": 0,
      "outputs": [
        {
          "output_type": "error",
          "ename": "LookupError",
          "evalue": "ignored",
          "traceback": [
            "\u001b[0;31m---------------------------------------------------------------------------\u001b[0m",
            "\u001b[0;31mLookupError\u001b[0m                               Traceback (most recent call last)",
            "\u001b[0;32m/usr/local/lib/python3.6/dist-packages/nltk/corpus/util.py\u001b[0m in \u001b[0;36m__load\u001b[0;34m(self)\u001b[0m\n\u001b[1;32m     79\u001b[0m             \u001b[0;32mexcept\u001b[0m \u001b[0mLookupError\u001b[0m \u001b[0;32mas\u001b[0m \u001b[0me\u001b[0m\u001b[0;34m:\u001b[0m\u001b[0;34m\u001b[0m\u001b[0;34m\u001b[0m\u001b[0m\n\u001b[0;32m---> 80\u001b[0;31m                 \u001b[0;32mtry\u001b[0m\u001b[0;34m:\u001b[0m \u001b[0mroot\u001b[0m \u001b[0;34m=\u001b[0m \u001b[0mnltk\u001b[0m\u001b[0;34m.\u001b[0m\u001b[0mdata\u001b[0m\u001b[0;34m.\u001b[0m\u001b[0mfind\u001b[0m\u001b[0;34m(\u001b[0m\u001b[0;34m'{}/{}'\u001b[0m\u001b[0;34m.\u001b[0m\u001b[0mformat\u001b[0m\u001b[0;34m(\u001b[0m\u001b[0mself\u001b[0m\u001b[0;34m.\u001b[0m\u001b[0msubdir\u001b[0m\u001b[0;34m,\u001b[0m \u001b[0mzip_name\u001b[0m\u001b[0;34m)\u001b[0m\u001b[0;34m)\u001b[0m\u001b[0;34m\u001b[0m\u001b[0;34m\u001b[0m\u001b[0m\n\u001b[0m\u001b[1;32m     81\u001b[0m                 \u001b[0;32mexcept\u001b[0m \u001b[0mLookupError\u001b[0m\u001b[0;34m:\u001b[0m \u001b[0;32mraise\u001b[0m \u001b[0me\u001b[0m\u001b[0;34m\u001b[0m\u001b[0;34m\u001b[0m\u001b[0m\n",
            "\u001b[0;32m/usr/local/lib/python3.6/dist-packages/nltk/data.py\u001b[0m in \u001b[0;36mfind\u001b[0;34m(resource_name, paths)\u001b[0m\n\u001b[1;32m    672\u001b[0m     \u001b[0mresource_not_found\u001b[0m \u001b[0;34m=\u001b[0m \u001b[0;34m'\\n%s\\n%s\\n%s\\n'\u001b[0m \u001b[0;34m%\u001b[0m \u001b[0;34m(\u001b[0m\u001b[0msep\u001b[0m\u001b[0;34m,\u001b[0m \u001b[0mmsg\u001b[0m\u001b[0;34m,\u001b[0m \u001b[0msep\u001b[0m\u001b[0;34m)\u001b[0m\u001b[0;34m\u001b[0m\u001b[0;34m\u001b[0m\u001b[0m\n\u001b[0;32m--> 673\u001b[0;31m     \u001b[0;32mraise\u001b[0m \u001b[0mLookupError\u001b[0m\u001b[0;34m(\u001b[0m\u001b[0mresource_not_found\u001b[0m\u001b[0;34m)\u001b[0m\u001b[0;34m\u001b[0m\u001b[0;34m\u001b[0m\u001b[0m\n\u001b[0m\u001b[1;32m    674\u001b[0m \u001b[0;34m\u001b[0m\u001b[0m\n",
            "\u001b[0;31mLookupError\u001b[0m: \n**********************************************************************\n  Resource \u001b[93mstopwords\u001b[0m not found.\n  Please use the NLTK Downloader to obtain the resource:\n\n  \u001b[31m>>> import nltk\n  >>> nltk.download('stopwords')\n  \u001b[0m\n  Searched in:\n    - '/root/nltk_data'\n    - '/usr/share/nltk_data'\n    - '/usr/local/share/nltk_data'\n    - '/usr/lib/nltk_data'\n    - '/usr/local/lib/nltk_data'\n    - '/usr/nltk_data'\n    - '/usr/lib/nltk_data'\n**********************************************************************\n",
            "\nDuring handling of the above exception, another exception occurred:\n",
            "\u001b[0;31mLookupError\u001b[0m                               Traceback (most recent call last)",
            "\u001b[0;32m<ipython-input-31-584d99cad9b2>\u001b[0m in \u001b[0;36m<module>\u001b[0;34m()\u001b[0m\n\u001b[0;32m----> 1\u001b[0;31m \u001b[0mstopwords\u001b[0m\u001b[0;34m.\u001b[0m\u001b[0mwords\u001b[0m\u001b[0;34m(\u001b[0m\u001b[0;34m'english'\u001b[0m\u001b[0;34m)\u001b[0m\u001b[0;34m[\u001b[0m\u001b[0;36m0\u001b[0m\u001b[0;34m:\u001b[0m\u001b[0;36m5\u001b[0m\u001b[0;34m]\u001b[0m\u001b[0;34m\u001b[0m\u001b[0;34m\u001b[0m\u001b[0m\n\u001b[0m",
            "\u001b[0;32m/usr/local/lib/python3.6/dist-packages/nltk/corpus/util.py\u001b[0m in \u001b[0;36m__getattr__\u001b[0;34m(self, attr)\u001b[0m\n\u001b[1;32m    114\u001b[0m             \u001b[0;32mraise\u001b[0m \u001b[0mAttributeError\u001b[0m\u001b[0;34m(\u001b[0m\u001b[0;34m\"LazyCorpusLoader object has no attribute '__bases__'\"\u001b[0m\u001b[0;34m)\u001b[0m\u001b[0;34m\u001b[0m\u001b[0;34m\u001b[0m\u001b[0m\n\u001b[1;32m    115\u001b[0m \u001b[0;34m\u001b[0m\u001b[0m\n\u001b[0;32m--> 116\u001b[0;31m         \u001b[0mself\u001b[0m\u001b[0;34m.\u001b[0m\u001b[0m__load\u001b[0m\u001b[0;34m(\u001b[0m\u001b[0;34m)\u001b[0m\u001b[0;34m\u001b[0m\u001b[0;34m\u001b[0m\u001b[0m\n\u001b[0m\u001b[1;32m    117\u001b[0m         \u001b[0;31m# This looks circular, but its not, since __load() changes our\u001b[0m\u001b[0;34m\u001b[0m\u001b[0;34m\u001b[0m\u001b[0;34m\u001b[0m\u001b[0m\n\u001b[1;32m    118\u001b[0m         \u001b[0;31m# __class__ to something new:\u001b[0m\u001b[0;34m\u001b[0m\u001b[0;34m\u001b[0m\u001b[0;34m\u001b[0m\u001b[0m\n",
            "\u001b[0;32m/usr/local/lib/python3.6/dist-packages/nltk/corpus/util.py\u001b[0m in \u001b[0;36m__load\u001b[0;34m(self)\u001b[0m\n\u001b[1;32m     79\u001b[0m             \u001b[0;32mexcept\u001b[0m \u001b[0mLookupError\u001b[0m \u001b[0;32mas\u001b[0m \u001b[0me\u001b[0m\u001b[0;34m:\u001b[0m\u001b[0;34m\u001b[0m\u001b[0;34m\u001b[0m\u001b[0m\n\u001b[1;32m     80\u001b[0m                 \u001b[0;32mtry\u001b[0m\u001b[0;34m:\u001b[0m \u001b[0mroot\u001b[0m \u001b[0;34m=\u001b[0m \u001b[0mnltk\u001b[0m\u001b[0;34m.\u001b[0m\u001b[0mdata\u001b[0m\u001b[0;34m.\u001b[0m\u001b[0mfind\u001b[0m\u001b[0;34m(\u001b[0m\u001b[0;34m'{}/{}'\u001b[0m\u001b[0;34m.\u001b[0m\u001b[0mformat\u001b[0m\u001b[0;34m(\u001b[0m\u001b[0mself\u001b[0m\u001b[0;34m.\u001b[0m\u001b[0msubdir\u001b[0m\u001b[0;34m,\u001b[0m \u001b[0mzip_name\u001b[0m\u001b[0;34m)\u001b[0m\u001b[0;34m)\u001b[0m\u001b[0;34m\u001b[0m\u001b[0;34m\u001b[0m\u001b[0m\n\u001b[0;32m---> 81\u001b[0;31m                 \u001b[0;32mexcept\u001b[0m \u001b[0mLookupError\u001b[0m\u001b[0;34m:\u001b[0m \u001b[0;32mraise\u001b[0m \u001b[0me\u001b[0m\u001b[0;34m\u001b[0m\u001b[0;34m\u001b[0m\u001b[0m\n\u001b[0m\u001b[1;32m     82\u001b[0m \u001b[0;34m\u001b[0m\u001b[0m\n\u001b[1;32m     83\u001b[0m         \u001b[0;31m# Load the corpus.\u001b[0m\u001b[0;34m\u001b[0m\u001b[0;34m\u001b[0m\u001b[0;34m\u001b[0m\u001b[0m\n",
            "\u001b[0;32m/usr/local/lib/python3.6/dist-packages/nltk/corpus/util.py\u001b[0m in \u001b[0;36m__load\u001b[0;34m(self)\u001b[0m\n\u001b[1;32m     76\u001b[0m         \u001b[0;32melse\u001b[0m\u001b[0;34m:\u001b[0m\u001b[0;34m\u001b[0m\u001b[0;34m\u001b[0m\u001b[0m\n\u001b[1;32m     77\u001b[0m             \u001b[0;32mtry\u001b[0m\u001b[0;34m:\u001b[0m\u001b[0;34m\u001b[0m\u001b[0;34m\u001b[0m\u001b[0m\n\u001b[0;32m---> 78\u001b[0;31m                 \u001b[0mroot\u001b[0m \u001b[0;34m=\u001b[0m \u001b[0mnltk\u001b[0m\u001b[0;34m.\u001b[0m\u001b[0mdata\u001b[0m\u001b[0;34m.\u001b[0m\u001b[0mfind\u001b[0m\u001b[0;34m(\u001b[0m\u001b[0;34m'{}/{}'\u001b[0m\u001b[0;34m.\u001b[0m\u001b[0mformat\u001b[0m\u001b[0;34m(\u001b[0m\u001b[0mself\u001b[0m\u001b[0;34m.\u001b[0m\u001b[0msubdir\u001b[0m\u001b[0;34m,\u001b[0m \u001b[0mself\u001b[0m\u001b[0;34m.\u001b[0m\u001b[0m__name\u001b[0m\u001b[0;34m)\u001b[0m\u001b[0;34m)\u001b[0m\u001b[0;34m\u001b[0m\u001b[0;34m\u001b[0m\u001b[0m\n\u001b[0m\u001b[1;32m     79\u001b[0m             \u001b[0;32mexcept\u001b[0m \u001b[0mLookupError\u001b[0m \u001b[0;32mas\u001b[0m \u001b[0me\u001b[0m\u001b[0;34m:\u001b[0m\u001b[0;34m\u001b[0m\u001b[0;34m\u001b[0m\u001b[0m\n\u001b[1;32m     80\u001b[0m                 \u001b[0;32mtry\u001b[0m\u001b[0;34m:\u001b[0m \u001b[0mroot\u001b[0m \u001b[0;34m=\u001b[0m \u001b[0mnltk\u001b[0m\u001b[0;34m.\u001b[0m\u001b[0mdata\u001b[0m\u001b[0;34m.\u001b[0m\u001b[0mfind\u001b[0m\u001b[0;34m(\u001b[0m\u001b[0;34m'{}/{}'\u001b[0m\u001b[0;34m.\u001b[0m\u001b[0mformat\u001b[0m\u001b[0;34m(\u001b[0m\u001b[0mself\u001b[0m\u001b[0;34m.\u001b[0m\u001b[0msubdir\u001b[0m\u001b[0;34m,\u001b[0m \u001b[0mzip_name\u001b[0m\u001b[0;34m)\u001b[0m\u001b[0;34m)\u001b[0m\u001b[0;34m\u001b[0m\u001b[0;34m\u001b[0m\u001b[0m\n",
            "\u001b[0;32m/usr/local/lib/python3.6/dist-packages/nltk/data.py\u001b[0m in \u001b[0;36mfind\u001b[0;34m(resource_name, paths)\u001b[0m\n\u001b[1;32m    671\u001b[0m     \u001b[0msep\u001b[0m \u001b[0;34m=\u001b[0m \u001b[0;34m'*'\u001b[0m \u001b[0;34m*\u001b[0m \u001b[0;36m70\u001b[0m\u001b[0;34m\u001b[0m\u001b[0;34m\u001b[0m\u001b[0m\n\u001b[1;32m    672\u001b[0m     \u001b[0mresource_not_found\u001b[0m \u001b[0;34m=\u001b[0m \u001b[0;34m'\\n%s\\n%s\\n%s\\n'\u001b[0m \u001b[0;34m%\u001b[0m \u001b[0;34m(\u001b[0m\u001b[0msep\u001b[0m\u001b[0;34m,\u001b[0m \u001b[0mmsg\u001b[0m\u001b[0;34m,\u001b[0m \u001b[0msep\u001b[0m\u001b[0;34m)\u001b[0m\u001b[0;34m\u001b[0m\u001b[0;34m\u001b[0m\u001b[0m\n\u001b[0;32m--> 673\u001b[0;31m     \u001b[0;32mraise\u001b[0m \u001b[0mLookupError\u001b[0m\u001b[0;34m(\u001b[0m\u001b[0mresource_not_found\u001b[0m\u001b[0;34m)\u001b[0m\u001b[0;34m\u001b[0m\u001b[0;34m\u001b[0m\u001b[0m\n\u001b[0m\u001b[1;32m    674\u001b[0m \u001b[0;34m\u001b[0m\u001b[0m\n\u001b[1;32m    675\u001b[0m \u001b[0;34m\u001b[0m\u001b[0m\n",
            "\u001b[0;31mLookupError\u001b[0m: \n**********************************************************************\n  Resource \u001b[93mstopwords\u001b[0m not found.\n  Please use the NLTK Downloader to obtain the resource:\n\n  \u001b[31m>>> import nltk\n  >>> nltk.download('stopwords')\n  \u001b[0m\n  Searched in:\n    - '/root/nltk_data'\n    - '/usr/share/nltk_data'\n    - '/usr/local/share/nltk_data'\n    - '/usr/lib/nltk_data'\n    - '/usr/local/lib/nltk_data'\n    - '/usr/nltk_data'\n    - '/usr/lib/nltk_data'\n**********************************************************************\n"
          ]
        }
      ]
    },
    {
      "cell_type": "code",
      "metadata": {
        "id": "0b72LPPjsXoJ",
        "colab_type": "code",
        "outputId": "57f2a36d-309d-4cbc-ca9e-c2cf138e596b",
        "colab": {
          "base_uri": "https://localhost:8080/",
          "height": 72
        }
      },
      "source": [
        "import nltk\n",
        "nltk.download('stopwords')"
      ],
      "execution_count": 0,
      "outputs": [
        {
          "output_type": "stream",
          "text": [
            "[nltk_data] Downloading package stopwords to /root/nltk_data...\n",
            "[nltk_data]   Unzipping corpora/stopwords.zip.\n"
          ],
          "name": "stdout"
        },
        {
          "output_type": "execute_result",
          "data": {
            "text/plain": [
              "True"
            ]
          },
          "metadata": {
            "tags": []
          },
          "execution_count": 32
        }
      ]
    },
    {
      "cell_type": "code",
      "metadata": {
        "id": "cGAsIjvFsdz4",
        "colab_type": "code",
        "outputId": "a0e8d522-5aa4-4787-d2ca-a18faa2bd8b3",
        "colab": {
          "base_uri": "https://localhost:8080/",
          "height": 35
        }
      },
      "source": [
        "stopwords.words('english')[0:5]"
      ],
      "execution_count": 0,
      "outputs": [
        {
          "output_type": "execute_result",
          "data": {
            "text/plain": [
              "['i', 'me', 'my', 'myself', 'we']"
            ]
          },
          "metadata": {
            "tags": []
          },
          "execution_count": 33
        }
      ]
    },
    {
      "cell_type": "code",
      "metadata": {
        "id": "imxLlGxSsoQr",
        "colab_type": "code",
        "outputId": "da870097-6082-4c64-ae3b-072a3c53bb72",
        "colab": {
          "base_uri": "https://localhost:8080/",
          "height": 35
        }
      },
      "source": [
        "test"
      ],
      "execution_count": 0,
      "outputs": [
        {
          "output_type": "execute_result",
          "data": {
            "text/plain": [
              "'hello this is Tuesday! , How are you ?'"
            ]
          },
          "metadata": {
            "tags": []
          },
          "execution_count": 34
        }
      ]
    },
    {
      "cell_type": "code",
      "metadata": {
        "id": "KU6HG29Gss6K",
        "colab_type": "code",
        "outputId": "c9ff40b4-1739-4af0-cc7f-409f91a1ba75",
        "colab": {
          "base_uri": "https://localhost:8080/",
          "height": 54
        }
      },
      "source": [
        "# Removing all stop words \n",
        "\n",
        "clean = [word for word in nonpunc.split()\n",
        "            if word.lower() not in stopwords.words('english')]\n",
        "\n",
        "# Now Compare with Existing String\n",
        "\n",
        "print('Input was:' , nonpunc.split())\n",
        "print('Output is:',clean)"
      ],
      "execution_count": 0,
      "outputs": [
        {
          "output_type": "stream",
          "text": [
            "Input was: ['hello', 'this', 'is', 'Tuesday', 'How', 'are', 'you']\n",
            "Output is: ['hello', 'Tuesday']\n"
          ],
          "name": "stdout"
        }
      ]
    },
    {
      "cell_type": "code",
      "metadata": {
        "id": "_wA_OTtXtXLQ",
        "colab_type": "code",
        "outputId": "e84bc03d-8944-468b-a8b1-ef3f80d90031",
        "colab": {
          "base_uri": "https://localhost:8080/",
          "height": 407
        }
      },
      "source": [
        "smstest"
      ],
      "execution_count": 0,
      "outputs": [
        {
          "output_type": "execute_result",
          "data": {
            "text/html": [
              "<div>\n",
              "<style scoped>\n",
              "    .dataframe tbody tr th:only-of-type {\n",
              "        vertical-align: middle;\n",
              "    }\n",
              "\n",
              "    .dataframe tbody tr th {\n",
              "        vertical-align: top;\n",
              "    }\n",
              "\n",
              "    .dataframe thead th {\n",
              "        text-align: right;\n",
              "    }\n",
              "</style>\n",
              "<table border=\"1\" class=\"dataframe\">\n",
              "  <thead>\n",
              "    <tr style=\"text-align: right;\">\n",
              "      <th></th>\n",
              "      <th>target</th>\n",
              "      <th>sms</th>\n",
              "      <th>length</th>\n",
              "    </tr>\n",
              "  </thead>\n",
              "  <tbody>\n",
              "    <tr>\n",
              "      <th>0</th>\n",
              "      <td>ham</td>\n",
              "      <td>Go until jurong point, crazy.. Available only ...</td>\n",
              "      <td>111</td>\n",
              "    </tr>\n",
              "    <tr>\n",
              "      <th>1</th>\n",
              "      <td>ham</td>\n",
              "      <td>Ok lar... Joking wif u oni...</td>\n",
              "      <td>29</td>\n",
              "    </tr>\n",
              "    <tr>\n",
              "      <th>2</th>\n",
              "      <td>spam</td>\n",
              "      <td>Free entry in 2 a wkly comp to win FA Cup fina...</td>\n",
              "      <td>155</td>\n",
              "    </tr>\n",
              "    <tr>\n",
              "      <th>3</th>\n",
              "      <td>ham</td>\n",
              "      <td>U dun say so early hor... U c already then say...</td>\n",
              "      <td>49</td>\n",
              "    </tr>\n",
              "    <tr>\n",
              "      <th>4</th>\n",
              "      <td>ham</td>\n",
              "      <td>Nah I don't think he goes to usf, he lives aro...</td>\n",
              "      <td>61</td>\n",
              "    </tr>\n",
              "    <tr>\n",
              "      <th>...</th>\n",
              "      <td>...</td>\n",
              "      <td>...</td>\n",
              "      <td>...</td>\n",
              "    </tr>\n",
              "    <tr>\n",
              "      <th>5567</th>\n",
              "      <td>spam</td>\n",
              "      <td>This is the 2nd time we have tried 2 contact u...</td>\n",
              "      <td>160</td>\n",
              "    </tr>\n",
              "    <tr>\n",
              "      <th>5568</th>\n",
              "      <td>ham</td>\n",
              "      <td>Will ü b going to esplanade fr home?</td>\n",
              "      <td>36</td>\n",
              "    </tr>\n",
              "    <tr>\n",
              "      <th>5569</th>\n",
              "      <td>ham</td>\n",
              "      <td>Pity, * was in mood for that. So...any other s...</td>\n",
              "      <td>57</td>\n",
              "    </tr>\n",
              "    <tr>\n",
              "      <th>5570</th>\n",
              "      <td>ham</td>\n",
              "      <td>The guy did some bitching but I acted like i'd...</td>\n",
              "      <td>125</td>\n",
              "    </tr>\n",
              "    <tr>\n",
              "      <th>5571</th>\n",
              "      <td>ham</td>\n",
              "      <td>Rofl. Its true to its name</td>\n",
              "      <td>26</td>\n",
              "    </tr>\n",
              "  </tbody>\n",
              "</table>\n",
              "<p>5572 rows × 3 columns</p>\n",
              "</div>"
            ],
            "text/plain": [
              "     target                                                sms  length\n",
              "0       ham  Go until jurong point, crazy.. Available only ...     111\n",
              "1       ham                      Ok lar... Joking wif u oni...      29\n",
              "2      spam  Free entry in 2 a wkly comp to win FA Cup fina...     155\n",
              "3       ham  U dun say so early hor... U c already then say...      49\n",
              "4       ham  Nah I don't think he goes to usf, he lives aro...      61\n",
              "...     ...                                                ...     ...\n",
              "5567   spam  This is the 2nd time we have tried 2 contact u...     160\n",
              "5568    ham               Will ü b going to esplanade fr home?      36\n",
              "5569    ham  Pity, * was in mood for that. So...any other s...      57\n",
              "5570    ham  The guy did some bitching but I acted like i'd...     125\n",
              "5571    ham                         Rofl. Its true to its name      26\n",
              "\n",
              "[5572 rows x 3 columns]"
            ]
          },
          "metadata": {
            "tags": []
          },
          "execution_count": 37
        }
      ]
    },
    {
      "cell_type": "code",
      "metadata": {
        "id": "jhKLgtEJtZvh",
        "colab_type": "code",
        "colab": {}
      },
      "source": [
        " # Input : Hi! Today Tuesday...\n",
        " # Output: Hi Today Tuesday "
      ],
      "execution_count": 0,
      "outputs": []
    },
    {
      "cell_type": "code",
      "metadata": {
        "id": "HQzoljoFtk7Y",
        "colab_type": "code",
        "outputId": "f135475e-3fb8-4983-cb93-1a3bdf480dc1",
        "colab": {
          "base_uri": "https://localhost:8080/",
          "height": 126
        }
      },
      "source": [
        "smstest['sms'].head(5)"
      ],
      "execution_count": 0,
      "outputs": [
        {
          "output_type": "execute_result",
          "data": {
            "text/plain": [
              "0    Go until jurong point, crazy.. Available only ...\n",
              "1                        Ok lar... Joking wif u oni...\n",
              "2    Free entry in 2 a wkly comp to win FA Cup fina...\n",
              "3    U dun say so early hor... U c already then say...\n",
              "4    Nah I don't think he goes to usf, he lives aro...\n",
              "Name: sms, dtype: object"
            ]
          },
          "metadata": {
            "tags": []
          },
          "execution_count": 38
        }
      ]
    },
    {
      "cell_type": "code",
      "metadata": {
        "id": "tQxUjsKYtwe-",
        "colab_type": "code",
        "outputId": "6c8dc894-fc1f-4a8c-f7eb-4cbeb12f15d6",
        "colab": {
          "base_uri": "https://localhost:8080/",
          "height": 171
        }
      },
      "source": [
        "smstest['sms'].head(5).apply(process_text)"
      ],
      "execution_count": 0,
      "outputs": [
        {
          "output_type": "error",
          "ename": "NameError",
          "evalue": "ignored",
          "traceback": [
            "\u001b[0;31m---------------------------------------------------------------------------\u001b[0m",
            "\u001b[0;31mNameError\u001b[0m                                 Traceback (most recent call last)",
            "\u001b[0;32m<ipython-input-39-70dd48a39c3b>\u001b[0m in \u001b[0;36m<module>\u001b[0;34m()\u001b[0m\n\u001b[0;32m----> 1\u001b[0;31m \u001b[0msmstest\u001b[0m\u001b[0;34m[\u001b[0m\u001b[0;34m'sms'\u001b[0m\u001b[0;34m]\u001b[0m\u001b[0;34m.\u001b[0m\u001b[0mhead\u001b[0m\u001b[0;34m(\u001b[0m\u001b[0;36m5\u001b[0m\u001b[0;34m)\u001b[0m\u001b[0;34m.\u001b[0m\u001b[0mapply\u001b[0m\u001b[0;34m(\u001b[0m\u001b[0mprocess_text\u001b[0m\u001b[0;34m)\u001b[0m\u001b[0;34m\u001b[0m\u001b[0;34m\u001b[0m\u001b[0m\n\u001b[0m",
            "\u001b[0;31mNameError\u001b[0m: name 'process_text' is not defined"
          ]
        }
      ]
    },
    {
      "cell_type": "code",
      "metadata": {
        "id": "TyIWl031t9TD",
        "colab_type": "code",
        "colab": {}
      },
      "source": [
        "1. Remove All Punc\n",
        "2. Remove All Stop words\n",
        "3. Returns a list of newly formed type "
      ],
      "execution_count": 0,
      "outputs": []
    },
    {
      "cell_type": "code",
      "metadata": {
        "id": "KMfgeMsluHSi",
        "colab_type": "code",
        "colab": {}
      },
      "source": [
        "def process_text(raw_text):\n",
        "   # Let us check the punctuations \n",
        "\n",
        "   nonpunc = [char for char in raw_text\n",
        "              if char not in string.punctuation]\n",
        "\n",
        "  # Join all the character\n",
        "\n",
        "   nonpunc=''.join(nonpunc)\n",
        "\n",
        "   # Remove All the Stop words\n",
        "\n",
        "   return [ word for word in nonpunc.split()\n",
        "            if word.lower() not in stopwords.words('english')]\n",
        "\n"
      ],
      "execution_count": 0,
      "outputs": []
    },
    {
      "cell_type": "code",
      "metadata": {
        "id": "KjAf8Yhivc8G",
        "colab_type": "code",
        "outputId": "f0c0497c-df99-4d31-bd5d-807231a0ac02",
        "colab": {
          "base_uri": "https://localhost:8080/",
          "height": 126
        }
      },
      "source": [
        "smstest['sms'].head(5).apply(process_text)"
      ],
      "execution_count": 0,
      "outputs": [
        {
          "output_type": "execute_result",
          "data": {
            "text/plain": [
              "0    [Go, jurong, point, crazy, Available, bugis, n...\n",
              "1                       [Ok, lar, Joking, wif, u, oni]\n",
              "2    [Free, entry, 2, wkly, comp, win, FA, Cup, fin...\n",
              "3        [U, dun, say, early, hor, U, c, already, say]\n",
              "4    [Nah, dont, think, goes, usf, lives, around, t...\n",
              "Name: sms, dtype: object"
            ]
          },
          "metadata": {
            "tags": []
          },
          "execution_count": 48
        }
      ]
    },
    {
      "cell_type": "markdown",
      "metadata": {
        "id": "TvfRsrc1vxMN",
        "colab_type": "text"
      },
      "source": [
        "BoW( Bag of Words) \n",
        "\n",
        "1. Term Freq: By Counting how many times does a word appeared in each message \n",
        "\n",
        "2. Inverse Document Freq: Which is Actually a weigh of Counts , frequent tokens get lower right "
      ]
    },
    {
      "cell_type": "code",
      "metadata": {
        "id": "vA-i6e9rwJMM",
        "colab_type": "code",
        "colab": {}
      },
      "source": [
        "from sklearn.feature_extraction.text import CountVectorizer"
      ],
      "execution_count": 0,
      "outputs": []
    },
    {
      "cell_type": "code",
      "metadata": {
        "id": "bIejNCYGwRzK",
        "colab_type": "code",
        "colab": {}
      },
      "source": [
        "bow_transformation = CountVectorizer(\n",
        "    analyzer =process_text).fit(smstest['sms'])"
      ],
      "execution_count": 0,
      "outputs": []
    },
    {
      "cell_type": "code",
      "metadata": {
        "id": "WmLDBjcFwmpy",
        "colab_type": "code",
        "outputId": "cd6ba721-4a66-4c8a-b2f4-5dedb7fc9acb",
        "colab": {
          "base_uri": "https://localhost:8080/",
          "height": 35
        }
      },
      "source": [
        "print(len(bow_transformation.vocabulary_))"
      ],
      "execution_count": 0,
      "outputs": [
        {
          "output_type": "stream",
          "text": [
            "11425\n"
          ],
          "name": "stdout"
        }
      ]
    },
    {
      "cell_type": "code",
      "metadata": {
        "id": "btbo09Grw5sv",
        "colab_type": "code",
        "outputId": "77003f77-23af-40d4-fe6c-8d55c4fc6a04",
        "colab": {
          "base_uri": "https://localhost:8080/",
          "height": 35
        }
      },
      "source": [
        "bow_transformation.vocabulary_.get('way')"
      ],
      "execution_count": 0,
      "outputs": [
        {
          "output_type": "execute_result",
          "data": {
            "text/plain": [
              "10979"
            ]
          },
          "metadata": {
            "tags": []
          },
          "execution_count": 54
        }
      ]
    },
    {
      "cell_type": "code",
      "metadata": {
        "id": "OUqKN4AJxdim",
        "colab_type": "code",
        "outputId": "b6e6bf1e-7731-4464-aab2-d8334d7fe0d9",
        "colab": {
          "base_uri": "https://localhost:8080/",
          "height": 381
        }
      },
      "source": [
        "sms19 = smstest['sms'][19]\n",
        "\n",
        "bow_19 = bow_transformation.transform([sms19])\n",
        "\n",
        "print(bow_19)\n",
        "print(bow_19.shape)"
      ],
      "execution_count": 0,
      "outputs": [
        {
          "output_type": "stream",
          "text": [
            "  (0, 382)\t1\n",
            "  (0, 677)\t1\n",
            "  (0, 870)\t2\n",
            "  (0, 1728)\t1\n",
            "  (0, 1784)\t1\n",
            "  (0, 2772)\t1\n",
            "  (0, 3141)\t1\n",
            "  (0, 3460)\t1\n",
            "  (0, 4042)\t1\n",
            "  (0, 4062)\t1\n",
            "  (0, 6123)\t1\n",
            "  (0, 6258)\t1\n",
            "  (0, 6870)\t1\n",
            "  (0, 8191)\t1\n",
            "  (0, 8362)\t1\n",
            "  (0, 8415)\t1\n",
            "  (0, 10338)\t1\n",
            "  (0, 10777)\t1\n",
            "  (0, 10816)\t1\n",
            "(1, 11425)\n"
          ],
          "name": "stdout"
        }
      ]
    }
  ]
}